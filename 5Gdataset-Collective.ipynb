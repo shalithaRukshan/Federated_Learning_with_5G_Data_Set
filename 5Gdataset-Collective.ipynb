{
 "cells": [
  {
   "cell_type": "code",
   "execution_count": 1,
   "id": "928dee3f",
   "metadata": {},
   "outputs": [
    {
     "name": "stdout",
     "output_type": "stream",
     "text": [
      "(1215890, 96)\n"
     ]
    },
    {
     "name": "stderr",
     "output_type": "stream",
     "text": [
      "<ipython-input-1-1cad4d3a42e6>:46: FutureWarning: Dropping of nuisance columns in DataFrame reductions (with 'numeric_only=None') is deprecated; in a future version this will raise TypeError.  Select only valid columns before calling the reduction.\n",
      "  df_full = df_full.fillna(df_full.median())\n"
     ]
    }
   ],
   "source": [
    "import pandas as pd\n",
    "from sklearn.model_selection import train_test_split\n",
    "from sklearn.preprocessing import StandardScaler\n",
    " \n",
    "import numpy as np\n",
    "import pandas as pd\n",
    "from sklearn import tree\n",
    "from sklearn.metrics import accuracy_score\n",
    "from sklearn.metrics import precision_score\n",
    "from sklearn.metrics import recall_score\n",
    "from sklearn.ensemble import RandomForestClassifier\n",
    "import random\n",
    "import math\n",
    "from torch.utils.tensorboard import SummaryWriter\n",
    "from matplotlib import pyplot\n",
    "\n",
    "from pathlib import Path\n",
    "import requests\n",
    "import pickle\n",
    "import gzip\n",
    "\n",
    "import torch\n",
    "import math\n",
    "import torch.nn.functional as F\n",
    "from torch import nn\n",
    "from torch import optim\n",
    "import torchvision\n",
    "import torchvision.transforms as transforms\n",
    "from torch.utils.data import TensorDataset\n",
    "from torch.utils.data import DataLoader\n",
    "from imblearn.over_sampling import SMOTE\n",
    "import copy\n",
    "from sklearn.metrics import confusion_matrix\n",
    "\n",
    "pd.options.display.float_format = \"{:,.4f}\".format\n",
    "sm = SMOTE(random_state=42)\n",
    "\n",
    "testset_frac = 0.25\n",
    "data_samples = 100000 \n",
    "\n",
    "df_full = pd.read_csv('data/Encoded.csv')\n",
    "print(df_full.shape)\n",
    "df_full = df_full.sample(n=data_samples)\n",
    "df_full = df_full.iloc[:, 1:]\n",
    "df_full = df_full.drop(columns=['Attack Tool', 'Label', 'sVid', 'dVid', '54'])\n",
    "df_full = df_full.fillna(df_full.median())"
   ]
  },
  {
   "cell_type": "code",
   "execution_count": 2,
   "id": "2aaa4c84",
   "metadata": {},
   "outputs": [],
   "source": [
    "learning_rate = 0.01\n",
    "numEpoch = 20\n",
    "batch_size = 32\n",
    "momentum = 0.9\n",
    "print_amount=3\n",
    "number_of_slices = 2\n",
    "isSmote = False\n",
    "runtime = 21\n",
    "\n",
    "file_name = \"5G_federated_\" + str(isSmote) + \"_\" + str(number_of_slices)  + \"_\" + str(runtime) + \".txt\"\n",
    "file = open(file_name, \"w\")"
   ]
  },
  {
   "cell_type": "code",
   "execution_count": 3,
   "id": "f8e1c024",
   "metadata": {},
   "outputs": [
    {
     "name": "stdout",
     "output_type": "stream",
     "text": [
      "Index(['Benign', 'HTTPFlood', 'ICMPFlood', 'SYNFlood', 'SYNScan',\n",
      "       'SlowrateDoS', 'TCPConnectScan', 'UDPFlood', 'UDPScan'],\n",
      "      dtype='object')\n",
      "Benign            38982\n",
      "UDPFlood          38138\n",
      "HTTPFlood         11600\n",
      "SlowrateDoS        5943\n",
      "SYNScan            1641\n",
      "TCPConnectScan     1544\n",
      "UDPScan            1270\n",
      "SYNFlood            796\n",
      "ICMPFlood            86\n",
      "Name: Attack Type, dtype: int64\n",
      "9\n"
     ]
    }
   ],
   "source": [
    "dummies = pd.get_dummies(df_full['Attack Type'])  # Classification\n",
    "outcomes = dummies.columns\n",
    "print(outcomes)\n",
    "num_classes = len(outcomes)\n",
    "Y = dummies.values\n",
    "print(df_full['Attack Type'].value_counts())\n",
    "print(num_classes)"
   ]
  },
  {
   "cell_type": "code",
   "execution_count": 4,
   "id": "8a5b1585",
   "metadata": {},
   "outputs": [
    {
     "name": "stdout",
     "output_type": "stream",
     "text": [
      "(38982, 90)\n",
      "(11600, 90)\n",
      "(38138, 90)\n",
      "(1641, 90)\n",
      "(5943, 90)\n",
      "0    38982\n",
      "1    38138\n",
      "2    11600\n",
      "3     5943\n",
      "4     1641\n",
      "Name: Attack Type, dtype: int64\n",
      "(96304, 90)\n",
      "(96304,)\n"
     ]
    }
   ],
   "source": [
    "df_Benign = df_full[df_full['Attack Type']=='Benign']\n",
    "df_HTTPFlood= df_full[df_full['Attack Type']=='HTTPFlood']\n",
    "df_UDPFlood= df_full[df_full['Attack Type']=='UDPFlood']\n",
    "df_SYNFlood= df_full[df_full['Attack Type']=='SYNScan']\n",
    "df_SlowrateDoS= df_full[df_full['Attack Type']=='SlowrateDoS']\n",
    "\n",
    "df_Benign.loc[(df_Benign['Attack Type'] == 'Benign'), 'Attack Type'] = 0\n",
    "df_HTTPFlood.loc[(df_HTTPFlood['Attack Type'] == 'HTTPFlood'), 'Attack Type'] = 2\n",
    "df_UDPFlood.loc[(df_UDPFlood['Attack Type'] == 'UDPFlood'), 'Attack Type'] = 1\n",
    "df_SYNFlood.loc[(df_SYNFlood['Attack Type'] == 'SYNScan'), 'Attack Type'] = 4\n",
    "df_SlowrateDoS.loc[(df_SlowrateDoS['Attack Type'] == 'SlowrateDoS'), 'Attack Type'] = 3\n",
    "\n",
    "print(df_Benign.shape)\n",
    "print(df_HTTPFlood.shape)\n",
    "print(df_UDPFlood.shape)\n",
    "print(df_SYNFlood.shape)\n",
    "print(df_SlowrateDoS.shape)\n",
    "\n",
    "df_filterd = pd.concat([df_Benign,df_HTTPFlood,df_UDPFlood,df_SYNFlood,df_SlowrateDoS])\n",
    "print(df_filterd['Attack Type'].value_counts())\n",
    "print(df_filterd.shape)\n",
    "type_df = df_filterd['Attack Type'].copy()\n",
    "data_df = df_filterd.drop('Attack Type',axis=1)\n",
    "print(type_df.shape)\n",
    "\n",
    "\n",
    "data_df = data_df / data_df.max()\n",
    "df_normalized = pd.concat([data_df,type_df],axis=1)"
   ]
  },
  {
   "cell_type": "code",
   "execution_count": 5,
   "id": "d026eddb",
   "metadata": {},
   "outputs": [],
   "source": [
    "def divide_train_test(df, propotion=0.1):\n",
    "    \n",
    "    df_train = {}\n",
    "    df_test = []\n",
    "    for key,val in df['Attack Type'].value_counts().iteritems():\n",
    "        df_part = df[df['Attack Type'] == key]\n",
    "        df_part = df_part.dropna(axis=1)\n",
    "        df_test.append(df_part[0: int(df_part.shape[0]*propotion)])\n",
    "        df_train[key] = df_part[int(df_part.shape[0]*propotion):df_part.shape[0]]\n",
    "        \n",
    "    return df_train,df_test"
   ]
  },
  {
   "cell_type": "code",
   "execution_count": 6,
   "id": "2faec961",
   "metadata": {},
   "outputs": [],
   "source": [
    "def get_data_for_slices(df_train, number_of_slices, isSmote=False, x_name=\"x_train\", y_name=\"y_train\"):\n",
    "    \n",
    "    df_normal = df_train.get(0) # benign\n",
    "    df_dos = df_train.get(1) # dos = udpflood\n",
    "    df_u2r = df_train.get(2) # u2r = httpflood\n",
    "    df_r2u = df_train.get(3) # r2u = slowratedos\n",
    "    df_probe = df_train.get(4) # probe = synscan\n",
    "    \n",
    "    df_normal_s1 = df_normal[int(df_normal.shape[0]*0/number_of_slices):int(df_normal.shape[0]*(1)/number_of_slices)]\n",
    "    df_normal_s2 = df_normal[int(df_normal.shape[0]*1/number_of_slices):int(df_normal.shape[0]*(2)/number_of_slices)]\n",
    "#     df_normal_s3 = df_normal[int(df_normal.shape[0]*2/number_of_slices):int(df_normal.shape[0]*(3)/number_of_slices)]\n",
    "#     df_normal_s4 = df_normal[int(df_normal.shape[0]*3/number_of_slices):int(df_normal.shape[0]*(4)/number_of_slices)]\n",
    "#     df_normal_s5 = df_normal[int(df_normal.shape[0]*4/number_of_slices):int(df_normal.shape[0]*(5)/number_of_slices)]\n",
    "\n",
    "#     df_s1 = pd.concat([df_normal_s1,df_dos])\n",
    "#     df_s2 = pd.concat([df_normal_s2,df_u2r])\n",
    "#     df_s3 = pd.concat([df_normal_s3,df_r2u])\n",
    "    df_s1 = pd.concat([df_normal_s1,df_probe])\n",
    "    df_s2 = df_normal_s2\n",
    "\n",
    "    x_data_dict= dict()\n",
    "    y_data_dict= dict()\n",
    "\n",
    "    y_s1 = (df_s1.pop('Attack Type').values).astype('int')\n",
    "    unique, counts = np.unique(y_s1, return_counts=True)\n",
    "    print('slice 1: ')\n",
    "    print(dict(zip(unique, counts)))\n",
    "    y_info1 = torch.tensor(y_s1).type(torch.LongTensor)\n",
    "    x_info1 = torch.tensor(df_s1.values).float()\n",
    "\n",
    "    y_s2 = (df_s2.pop('Attack Type').values).astype('int')\n",
    "    unique, counts = np.unique(y_s2, return_counts=True)\n",
    "    print('slice 2: ')\n",
    "    print(dict(zip(unique, counts)))\n",
    "    y_info2 = torch.tensor(y_s2).type(torch.LongTensor)\n",
    "    x_info2 = torch.tensor(df_s2.values).float()\n",
    "\n",
    "#     y_s3 = (df_s3.pop('Attack Type').values).astype('int')\n",
    "#     unique, counts = np.unique(y_s3, return_counts=True)\n",
    "#     print('slice 3: ')\n",
    "#     print( dict(zip(unique, counts)))\n",
    "#     y_info3 = torch.tensor(y_s3).type(torch.LongTensor)\n",
    "#     x_info3 = torch.tensor(df_s3.values).float()\n",
    "\n",
    "#     y_s4 = (df_s4.pop('Attack Type').values).astype('int')\n",
    "#     unique, counts = np.unique(y_s4, return_counts=True)\n",
    "#     print('slice 4: ')\n",
    "#     print(dict(zip(unique, counts)))\n",
    "#     y_info4 = torch.tensor(y_s4).type(torch.LongTensor)\n",
    "#     x_info4 = torch.tensor(df_s4.values).float()\n",
    "\n",
    "#     y_s5 = (df_s5.pop('Attack Type').values).astype('int')\n",
    "#     unique, counts = np.unique(y_s5, return_counts=True)\n",
    "#     print('slice 5: ')\n",
    "#     print(dict(zip(unique, counts)))\n",
    "#     y_info5 = torch.tensor(y_s5).type(torch.LongTensor)\n",
    "#     x_info5 = torch.tensor(df_s5.values).float()\n",
    "\n",
    "\n",
    "    x_data_dict.update({\"x_train0\" : x_info1})\n",
    "    y_data_dict.update({\"y_train0\" : y_info1})\n",
    "\n",
    "    x_data_dict.update({\"x_train1\" : x_info2})\n",
    "    y_data_dict.update({\"y_train1\" : y_info2})\n",
    "\n",
    "#     x_data_dict.update({\"x_train2\" : x_info3})\n",
    "#     y_data_dict.update({\"y_train2\" : y_info3})\n",
    "\n",
    "#     x_data_dict.update({\"x_train3\" : x_info4})\n",
    "#     y_data_dict.update({\"y_train3\" : y_info4})\n",
    "\n",
    "#     x_data_dict.update({\"x_train4\" : x_info5})\n",
    "#     y_data_dict.update({\"y_train4\" : y_info5})\n",
    "    \n",
    "    return x_data_dict, y_data_dict "
   ]
  },
  {
   "cell_type": "code",
   "execution_count": 7,
   "id": "3da8d839",
   "metadata": {},
   "outputs": [
    {
     "name": "stdout",
     "output_type": "stream",
     "text": [
      "5\n",
      "slice 1: \n",
      "{0: 17542, 4: 1477}\n",
      "slice 2: \n",
      "{0: 17542}\n",
      "Test set size is : x => (9629, 86) y => (9629,)\n",
      "86 5\n"
     ]
    }
   ],
   "source": [
    "df_train, df_test = divide_train_test(df_normalized,propotion=0.1)\n",
    "print(len(df_train))\n",
    "# print('Value counts in train set : ')\n",
    "# df_train['Attack Type'].value_counts()\n",
    "# print('Value counts in test set : ')\n",
    "# print(df_test['Attack Type'].value_counts())\n",
    "\n",
    "x_train_dict, y_train_dict = get_data_for_slices(df_train, number_of_slices, isSmote)\n",
    "\n",
    "df_test = pd.concat(df_test)\n",
    "y_test = df_test.pop('Attack Type').values\n",
    "x_test = df_test.values\n",
    "\n",
    "print('Test set size is : x => ' + str(x_test.shape) + ' y => ' + str(y_test.shape))\n",
    "x_test = torch.tensor(x_test).float()\n",
    "y_test = torch.tensor(y_test.astype('int')).type(torch.LongTensor)\n",
    "\n",
    "inputs = x_test.shape[1]\n",
    "outputs = 5\n",
    "print(inputs,outputs)"
   ]
  },
  {
   "cell_type": "code",
   "execution_count": 8,
   "id": "3fdb49a7",
   "metadata": {},
   "outputs": [],
   "source": [
    "class Net2nn(nn.Module):\n",
    "    def __init__(self, inputs, outputs):\n",
    "        super(Net2nn, self).__init__()\n",
    "        self.fc1=nn.Linear(inputs,200)\n",
    "        self.fc2=nn.Linear(200,200)\n",
    "        self.fc3=nn.Linear(200,outputs)\n",
    "        \n",
    "    def forward(self,x):\n",
    "        x=F.relu(self.fc1(x))\n",
    "        x=F.relu(self.fc2(x))\n",
    "        x=self.fc3(x)\n",
    "        return x"
   ]
  },
  {
   "cell_type": "code",
   "execution_count": 9,
   "id": "37778c9c",
   "metadata": {},
   "outputs": [],
   "source": [
    "class WrappedDataLoader:\n",
    "    def __init__(self, dl, func):\n",
    "        self.dl = dl\n",
    "        self.func = func\n",
    "\n",
    "    def __len__(self):\n",
    "        return len(self.dl)\n",
    "\n",
    "    def __iter__(self):\n",
    "        batches = iter(self.dl)\n",
    "        for b in batches:\n",
    "            yield (self.func(*b))"
   ]
  },
  {
   "cell_type": "code",
   "execution_count": 10,
   "id": "0f7bef5d",
   "metadata": {},
   "outputs": [],
   "source": [
    "def train(model, train_loader, criterion, optimizer):\n",
    "    model.train()\n",
    "    train_loss = 0.0\n",
    "    correct = 0\n",
    "\n",
    "    for data, target in train_loader:\n",
    "        output = model(data)\n",
    "        loss = criterion(output, target)\n",
    "        optimizer.zero_grad()\n",
    "        loss.backward()\n",
    "        optimizer.step()\n",
    "        \n",
    "        train_loss += loss.item()\n",
    "        prediction = output.argmax(dim=1, keepdim=True)\n",
    "        correct += prediction.eq(target.view_as(prediction)).sum().item()\n",
    "        \n",
    "\n",
    "    return train_loss / len(train_loader), correct/len(train_loader.dataset)"
   ]
  },
  {
   "cell_type": "code",
   "execution_count": 11,
   "id": "c7a19c36",
   "metadata": {},
   "outputs": [],
   "source": [
    "def validation(model, test_loader, criterion):\n",
    "    model.eval()\n",
    "    test_loss = 0.0\n",
    "    correct = 0\n",
    "    with torch.no_grad():\n",
    "        for data, target in test_loader:\n",
    "            output = model(data)\n",
    "            \n",
    "            test_loss += criterion(output, target).item()\n",
    "            prediction = output.argmax(dim=1, keepdim=True)\n",
    "            correct += prediction.eq(target.view_as(prediction)).sum().item()\n",
    "\n",
    "    test_loss /= len(test_loader)\n",
    "    correct /= len(test_loader.dataset)\n",
    "\n",
    "    return (test_loss, correct)"
   ]
  },
  {
   "cell_type": "code",
   "execution_count": 12,
   "id": "89bdf0d5",
   "metadata": {},
   "outputs": [],
   "source": [
    "def confusion_mat(model, test_loader):\n",
    "    y_pred = []\n",
    "    y_true = []\n",
    "\n",
    "    # iterate over test data\n",
    "    for inputs, labels in test_loader:\n",
    "        output = model(inputs)  # Feed Network\n",
    "\n",
    "        output = (torch.max(torch.exp(output), 1)[1]).data.cpu().numpy()\n",
    "        y_pred.extend(output)  # Save Prediction\n",
    "\n",
    "        labels = labels.data.cpu().numpy()\n",
    "        y_true.extend(labels)  # Save Truth\n",
    "\n",
    "    cf_matrix = confusion_matrix(y_true, y_pred)\n",
    "    precisionv = precision_score(y_true,y_pred,average='macro')\n",
    "    recallv = recall_score(y_true,y_pred,average='macro')\n",
    "    print('precision value: '+str(precisionv))\n",
    "    print('recall value: '+ str(recallv))\n",
    "#     df_cm = pd.DataFrame(cf_matrix, index=[i for i in Counter(y_test)],\n",
    "#                          columns=[i for i in Counter(y_test)])\n",
    "#     plt.figure(1)\n",
    "#     plt.ylabel('True label')\n",
    "#     plt.xlabel('Predicted label')\n",
    "#     plt.figure(figsize=(12, 7))\n",
    "\n",
    "#     sn.heatmap(df_cm, annot=True).set(xlabel='Predicted label', ylabel='True label')\n",
    "#     plt.savefig('D:\\\\learning\\\\PyTorch\\\\experiment\\\\cf\\\\cf_fl_'+str(self.number_of_slices)+'.png')\n",
    "    print('confusion matrix for normal scenario for slices : ' + str(number_of_slices))\n",
    "    print(cf_matrix)\n",
    "    file.write('\\ncf matrix for slice :' + str(number_of_slices))\n",
    "    file.write('\\n'+str(cf_matrix))"
   ]
  },
  {
   "cell_type": "code",
   "execution_count": 13,
   "id": "e2f880e8",
   "metadata": {},
   "outputs": [],
   "source": [
    "def create_model_optimizer_criterion_dict(number_of_slices):\n",
    "    model_dict = dict()\n",
    "    optimizer_dict= dict()\n",
    "    criterion_dict = dict()\n",
    "    \n",
    "    for i in range(number_of_slices):\n",
    "        model_name=\"model\"+str(i)\n",
    "        model_info=Net2nn(inputs, outputs)\n",
    "        model_dict.update({model_name : model_info })\n",
    "        \n",
    "        optimizer_name=\"optimizer\"+str(i)\n",
    "        optimizer_info = torch.optim.SGD(model_info.parameters(), lr=learning_rate, momentum=momentum)\n",
    "        optimizer_dict.update({optimizer_name : optimizer_info })\n",
    "        \n",
    "        criterion_name = \"criterion\"+str(i)\n",
    "        criterion_info = nn.CrossEntropyLoss()\n",
    "        criterion_dict.update({criterion_name : criterion_info})\n",
    "        \n",
    "    return model_dict, optimizer_dict, criterion_dict "
   ]
  },
  {
   "cell_type": "code",
   "execution_count": 14,
   "id": "323fad7d",
   "metadata": {},
   "outputs": [],
   "source": [
    "def get_averaged_weights(model_dict, number_of_slices):\n",
    "   \n",
    "    fc1_mean_weight = torch.zeros(size=model_dict[name_of_models[0]].fc1.weight.shape)\n",
    "    fc1_mean_bias = torch.zeros(size=model_dict[name_of_models[0]].fc1.bias.shape)\n",
    "    \n",
    "    fc2_mean_weight = torch.zeros(size=model_dict[name_of_models[0]].fc2.weight.shape)\n",
    "    fc2_mean_bias = torch.zeros(size=model_dict[name_of_models[0]].fc2.bias.shape)\n",
    "    \n",
    "    fc3_mean_weight = torch.zeros(size=model_dict[name_of_models[0]].fc3.weight.shape)\n",
    "    fc3_mean_bias = torch.zeros(size=model_dict[name_of_models[0]].fc3.bias.shape)\n",
    "    \n",
    "    with torch.no_grad():\n",
    "    \n",
    "    \n",
    "        for i in range(number_of_slices):\n",
    "            fc1_mean_weight += model_dict[name_of_models[i]].fc1.weight.data.clone()\n",
    "            fc1_mean_bias += model_dict[name_of_models[i]].fc1.bias.data.clone()\n",
    "        \n",
    "            fc2_mean_weight += model_dict[name_of_models[i]].fc2.weight.data.clone()\n",
    "            fc2_mean_bias += model_dict[name_of_models[i]].fc2.bias.data.clone()\n",
    "        \n",
    "            fc3_mean_weight += model_dict[name_of_models[i]].fc3.weight.data.clone()\n",
    "            fc3_mean_bias += model_dict[name_of_models[i]].fc3.bias.data.clone()\n",
    "\n",
    "        \n",
    "        fc1_mean_weight =fc1_mean_weight/number_of_slices\n",
    "        fc1_mean_bias = fc1_mean_bias/ number_of_slices\n",
    "    \n",
    "        fc2_mean_weight =fc2_mean_weight/number_of_slices\n",
    "        fc2_mean_bias = fc2_mean_bias/ number_of_slices\n",
    "    \n",
    "        fc3_mean_weight =fc3_mean_weight/number_of_slices\n",
    "        fc3_mean_bias = fc3_mean_bias/ number_of_slices\n",
    "    \n",
    "    return fc1_mean_weight, fc1_mean_bias, fc2_mean_weight, fc2_mean_bias, fc3_mean_weight, fc3_mean_bias"
   ]
  },
  {
   "cell_type": "code",
   "execution_count": 15,
   "id": "061de023",
   "metadata": {},
   "outputs": [],
   "source": [
    "def set_averaged_weights_as_main_model_weights_and_update_main_model(main_model,model_dict, number_of_slices):\n",
    "    fc1_mean_weight, fc1_mean_bias, fc2_mean_weight, fc2_mean_bias, fc3_mean_weight, fc3_mean_bias = get_averaged_weights(model_dict, number_of_slices=number_of_slices)\n",
    "    with torch.no_grad():\n",
    "        main_model.fc1.weight.data = fc1_mean_weight.data.clone()\n",
    "        main_model.fc2.weight.data = fc2_mean_weight.data.clone()\n",
    "        main_model.fc3.weight.data = fc3_mean_weight.data.clone()\n",
    "\n",
    "        main_model.fc1.bias.data = fc1_mean_bias.data.clone()\n",
    "        main_model.fc2.bias.data = fc2_mean_bias.data.clone()\n",
    "        main_model.fc3.bias.data = fc3_mean_bias.data.clone() \n",
    "    return main_model"
   ]
  },
  {
   "cell_type": "code",
   "execution_count": 16,
   "id": "87a60def",
   "metadata": {},
   "outputs": [],
   "source": [
    "def compare_local_and_merged_model_performance(number_of_slices):\n",
    "    accuracy_table=pd.DataFrame(data=np.zeros((number_of_slices,3)), columns=[\"sample\", \"local_ind_model\", \"merged_main_model\"])\n",
    "    for i in range (number_of_slices):\n",
    "    \n",
    "        test_ds = TensorDataset(x_test, y_test)\n",
    "        test_dl = DataLoader(test_ds, batch_size=batch_size * 2)\n",
    "    \n",
    "        model=model_dict[name_of_models[i]]\n",
    "        criterion=criterion_dict[name_of_criterions[i]]\n",
    "        optimizer=optimizer_dict[name_of_optimizers[i]]\n",
    "    \n",
    "        individual_loss, individual_accuracy = validation(model, test_dl, criterion)\n",
    "        main_loss, main_accuracy =validation(main_model, test_dl, main_criterion )\n",
    "    \n",
    "        accuracy_table.loc[i, \"sample\"]=\"sample \"+str(i)\n",
    "        accuracy_table.loc[i, \"local_ind_model\"] = individual_accuracy\n",
    "        accuracy_table.loc[i, \"merged_main_model\"] = main_accuracy\n",
    "\n",
    "    return accuracy_table"
   ]
  },
  {
   "cell_type": "code",
   "execution_count": 17,
   "id": "886cf94c",
   "metadata": {},
   "outputs": [],
   "source": [
    "def send_main_model_to_nodes_and_update_model_dict(main_model, model_dict, number_of_slices):\n",
    "    with torch.no_grad():\n",
    "        for i in range(number_of_slices):\n",
    "            print('Updating model :' + name_of_models[i] )\n",
    "            model_dict[name_of_models[i]].fc1.weight.data =main_model.fc1.weight.data.clone()\n",
    "            model_dict[name_of_models[i]].fc2.weight.data =main_model.fc2.weight.data.clone()\n",
    "            model_dict[name_of_models[i]].fc3.weight.data =main_model.fc3.weight.data.clone() \n",
    "            \n",
    "            model_dict[name_of_models[i]].fc1.bias.data =main_model.fc1.bias.data.clone()\n",
    "            model_dict[name_of_models[i]].fc2.bias.data =main_model.fc2.bias.data.clone()\n",
    "            model_dict[name_of_models[i]].fc3.bias.data =main_model.fc3.bias.data.clone() \n",
    "    \n",
    "    return model_dict"
   ]
  },
  {
   "cell_type": "code",
   "execution_count": 18,
   "id": "5f476a84",
   "metadata": {},
   "outputs": [],
   "source": [
    "def start_train_end_node_process(number_of_slices):\n",
    "    for i in range (number_of_slices): \n",
    "\n",
    "        print('Federated learning for slice '+ str(i+1))\n",
    "        train_ds = TensorDataset(x_train_dict[name_of_x_train_sets[i]], y_train_dict[name_of_y_train_sets[i]])\n",
    "        train_dl = DataLoader(train_ds, batch_size=batch_size, shuffle=True)\n",
    "\n",
    "#         valid_ds = TensorDataset(x_valid_dict[name_of_x_valid_sets[i]], y_valid_dict[name_of_y_valid_sets[i]])\n",
    "#         valid_dl = DataLoader(valid_ds, batch_size=batch_size * 2)\n",
    "        \n",
    "        test_ds = TensorDataset(x_test_dict[name_of_x_test_sets[i]], y_test_dict[name_of_y_test_sets[i]])\n",
    "        test_dl = DataLoader(test_ds, batch_size= batch_size * 2)\n",
    "    \n",
    "        model=model_dict[name_of_models[i]]\n",
    "        criterion=criterion_dict[name_of_criterions[i]]\n",
    "        optimizer=optimizer_dict[name_of_optimizers[i]]\n",
    "    \n",
    "        print(\"Subset\" ,i)\n",
    "        for epoch in range(numEpoch):        \n",
    "            train_loss, train_accuracy = train(model, train_dl, criterion, optimizer)\n",
    "#             valid_loss, valid_accuracy = validation(model, valid_dl, criterion)\n",
    "            test_loss, test_accuracy = validation(model, test_dl, criterion)\n",
    "    \n",
    "            print(\"epoch: {:3.0f}\".format(epoch+1) + \" | train accuracy: {:7.5f}\".format(train_accuracy) + \" | test accuracy: {:7.5f}\".format(test_accuracy))"
   ]
  },
  {
   "cell_type": "code",
   "execution_count": 19,
   "id": "0894528a",
   "metadata": {},
   "outputs": [],
   "source": [
    "\n",
    "def start_train_end_node_process_without_print(number_of_slices):\n",
    "    for i in range (number_of_slices): \n",
    "\n",
    "        train_ds = TensorDataset(x_train_dict[name_of_x_train_sets[i]], y_train_dict[name_of_y_train_sets[i]])\n",
    "        train_dl = DataLoader(train_ds, batch_size=batch_size, shuffle=True)\n",
    "\n",
    "        test_ds = TensorDataset(x_test, y_test)\n",
    "        test_dl = DataLoader(test_ds, batch_size= batch_size * 2)\n",
    "    \n",
    "        model=model_dict[name_of_models[i]]\n",
    "        criterion=criterion_dict[name_of_criterions[i]]\n",
    "        optimizer=optimizer_dict[name_of_optimizers[i]]\n",
    "    \n",
    "        for epoch in range(numEpoch):        \n",
    "            train_loss, train_accuracy = train(model, train_dl, criterion, optimizer)\n",
    "            test_loss, test_accuracy = validation(model, test_dl, criterion)"
   ]
  },
  {
   "cell_type": "code",
   "execution_count": 20,
   "id": "2e5c8a4c",
   "metadata": {},
   "outputs": [],
   "source": [
    "def start_train_end_node_process_print_some(number_of_slices, print_amount):\n",
    "    for i in range (number_of_slices): \n",
    "        \n",
    "        print('Federated learning for slice '+ str(i+1))\n",
    "        train_ds = TensorDataset(x_train_dict[name_of_x_train_sets[i]], \n",
    "                                 y_train_dict[name_of_y_train_sets[i]])\n",
    "        train_dl = DataLoader(train_ds, batch_size=batch_size, shuffle=True)\n",
    "\n",
    "        test_ds = TensorDataset(x_test, y_test)\n",
    "        test_dl = DataLoader(test_ds, batch_size= batch_size * 2)\n",
    "    \n",
    "        model=model_dict[name_of_models[i]]\n",
    "        criterion=criterion_dict[name_of_criterions[i]]\n",
    "        optimizer=optimizer_dict[name_of_optimizers[i]]\n",
    "    \n",
    "        if i<print_amount:\n",
    "            print(\"Subset\" ,i)\n",
    "            \n",
    "        for epoch in range(numEpoch):\n",
    "        \n",
    "            train_loss, train_accuracy = train(model, train_dl, criterion, optimizer)\n",
    "            test_loss, test_accuracy = validation(model, test_dl, criterion)\n",
    "            \n",
    "            if i<print_amount:        \n",
    "                print(\"epoch: {:3.0f}\".format(epoch+1) + \" | train accuracy: {:7.5f}\".format(train_accuracy) + \" | test accuracy: {:7.5f}\".format(test_accuracy))    "
   ]
  },
  {
   "cell_type": "code",
   "execution_count": 21,
   "id": "543b83bd",
   "metadata": {},
   "outputs": [],
   "source": [
    "# initial_model = Net2nn()\n",
    "# initial_optimizer = torch.optim.SGD(initial_model.parameters(), lr=0.01, momentum=0.9)\n",
    "# initial_criterion = nn.CrossEntropyLoss()\n",
    "\n",
    "centralized_model = Net2nn(inputs, outputs)\n",
    "centralized_optimizer = torch.optim.SGD(centralized_model.parameters(), lr=0.01, momentum=0.9)\n",
    "centralized_criterion = nn.CrossEntropyLoss()"
   ]
  },
  {
   "cell_type": "code",
   "execution_count": 22,
   "id": "a9177cd2",
   "metadata": {},
   "outputs": [
    {
     "name": "stdout",
     "output_type": "stream",
     "text": [
      "------ Centralized Model ------\n",
      "Training with slice 1 data\n",
      "epoch:   1 | train accuracy:  0.9774 | test accuracy:  0.4215\n",
      "epoch:   2 | train accuracy:  0.9995 | test accuracy:  0.4215\n",
      "epoch:   3 | train accuracy:  0.9995 | test accuracy:  0.4215\n",
      "epoch:   4 | train accuracy:  0.9995 | test accuracy:  0.4215\n",
      "epoch:   5 | train accuracy:  0.9996 | test accuracy:  0.4215\n",
      "epoch:   6 | train accuracy:  0.9997 | test accuracy:  0.4215\n",
      "epoch:   7 | train accuracy:  0.9997 | test accuracy:  0.4215\n",
      "epoch:   8 | train accuracy:  0.9996 | test accuracy:  0.4215\n",
      "epoch:   9 | train accuracy:  0.9997 | test accuracy:  0.4215\n",
      "epoch:  10 | train accuracy:  0.9996 | test accuracy:  0.4215\n",
      "epoch:  11 | train accuracy:  0.9997 | test accuracy:  0.4215\n",
      "epoch:  12 | train accuracy:  0.9997 | test accuracy:  0.4215\n",
      "epoch:  13 | train accuracy:  0.9997 | test accuracy:  0.4213\n",
      "epoch:  14 | train accuracy:  0.9996 | test accuracy:  0.4215\n",
      "epoch:  15 | train accuracy:  0.9997 | test accuracy:  0.4215\n",
      "epoch:  16 | train accuracy:  0.9997 | test accuracy:  0.4215\n",
      "epoch:  17 | train accuracy:  0.9997 | test accuracy:  0.4215\n",
      "epoch:  18 | train accuracy:  0.9998 | test accuracy:  0.4214\n",
      "epoch:  19 | train accuracy:  0.9998 | test accuracy:  0.4215\n",
      "epoch:  20 | train accuracy:  0.9998 | test accuracy:  0.4215\n",
      " | train accuracy:  0.9998 | test accuracy:  0.4215\n"
     ]
    },
    {
     "name": "stderr",
     "output_type": "stream",
     "text": [
      "D:\\Softwares\\anaconda-python\\lib\\site-packages\\sklearn\\metrics\\_classification.py:1318: UndefinedMetricWarning: Precision is ill-defined and being set to 0.0 in labels with no predicted samples. Use `zero_division` parameter to control this behavior.\n",
      "  _warn_prf(average, modifier, msg_start, len(result))\n"
     ]
    },
    {
     "name": "stdout",
     "output_type": "stream",
     "text": [
      "precision value: 0.2811097904155525\n",
      "recall value: 0.3975096672464929\n",
      "confusion matrix for normal scenario for slices : 2\n",
      "[[3897    0    0    0    1]\n",
      " [3813    0    0    0    0]\n",
      " [1160    0    0    0    0]\n",
      " [ 594    0    0    0    0]\n",
      " [   2    0    0    0  162]]\n",
      "Training with slice 2 data\n",
      "epoch:   1 | train accuracy:  0.9937 | test accuracy:  0.4048\n",
      "epoch:   2 | train accuracy:  1.0000 | test accuracy:  0.4048\n",
      "epoch:   3 | train accuracy:  1.0000 | test accuracy:  0.4048\n",
      "epoch:   4 | train accuracy:  1.0000 | test accuracy:  0.4048\n",
      "epoch:   5 | train accuracy:  1.0000 | test accuracy:  0.4048\n",
      "epoch:   6 | train accuracy:  1.0000 | test accuracy:  0.4048\n",
      "epoch:   7 | train accuracy:  1.0000 | test accuracy:  0.4048\n",
      "epoch:   8 | train accuracy:  1.0000 | test accuracy:  0.4048\n",
      "epoch:   9 | train accuracy:  1.0000 | test accuracy:  0.4048\n",
      "epoch:  10 | train accuracy:  1.0000 | test accuracy:  0.4048\n",
      "epoch:  11 | train accuracy:  1.0000 | test accuracy:  0.4048\n",
      "epoch:  12 | train accuracy:  1.0000 | test accuracy:  0.4048\n",
      "epoch:  13 | train accuracy:  1.0000 | test accuracy:  0.4048\n",
      "epoch:  14 | train accuracy:  1.0000 | test accuracy:  0.4048\n",
      "epoch:  15 | train accuracy:  1.0000 | test accuracy:  0.4048\n",
      "epoch:  16 | train accuracy:  1.0000 | test accuracy:  0.4048\n",
      "epoch:  17 | train accuracy:  1.0000 | test accuracy:  0.4048\n",
      "epoch:  18 | train accuracy:  1.0000 | test accuracy:  0.4048\n",
      "epoch:  19 | train accuracy:  1.0000 | test accuracy:  0.4048\n",
      "epoch:  20 | train accuracy:  1.0000 | test accuracy:  0.4048\n",
      " | train accuracy:  1.0000 | test accuracy:  0.4048\n",
      "precision value: 0.08096375532246339\n",
      "recall value: 0.2\n",
      "confusion matrix for normal scenario for slices : 2\n",
      "[[3898    0    0    0    0]\n",
      " [3813    0    0    0    0]\n",
      " [1160    0    0    0    0]\n",
      " [ 594    0    0    0    0]\n",
      " [ 164    0    0    0    0]]\n",
      "------ Training finished ------\n",
      "Mean train accuracy: 0.9991255300334562\n",
      "Mean test accuracy: 0.41317114965209234\n"
     ]
    },
    {
     "name": "stderr",
     "output_type": "stream",
     "text": [
      "D:\\Softwares\\anaconda-python\\lib\\site-packages\\sklearn\\metrics\\_classification.py:1318: UndefinedMetricWarning: Precision is ill-defined and being set to 0.0 in labels with no predicted samples. Use `zero_division` parameter to control this behavior.\n",
      "  _warn_prf(average, modifier, msg_start, len(result))\n"
     ]
    }
   ],
   "source": [
    "print(\"------ Centralized Model ------\")\n",
    "\n",
    "train_acc = []\n",
    "test_acc = []\n",
    "train_loss = []\n",
    "test_loss = []\n",
    "\n",
    "test_ds = TensorDataset(x_test, y_test)\n",
    "test_dl = DataLoader(test_ds, batch_size=batch_size * 2)\n",
    "\n",
    "for i in range(number_of_slices):\n",
    "    centralized_model = Net2nn(inputs,outputs)\n",
    "    centralized_optimizer = torch.optim.SGD(centralized_model.parameters(), lr=0.01, momentum=0.9)\n",
    "    centralized_criterion = nn.CrossEntropyLoss()\n",
    "#     centralized_model = copy.deepcopy(initial_model)\n",
    "#     centralized_optimizer = copy.deepcopy(initial_optimizer)\n",
    "#     centralized_criterion = copy.deepcopy(initial_criterion)\n",
    "    print('Training with slice ' + str(i+1) + ' data' )\n",
    "    x_name = 'x_train' + str(i)\n",
    "    y_name = 'y_train' + str(i)\n",
    "    train_ds = TensorDataset(x_train_dict[x_name], y_train_dict[y_name])\n",
    "    train_dl = DataLoader(train_ds, batch_size=batch_size, shuffle=True)\n",
    "\n",
    "    for epoch in range(numEpoch):\n",
    "        central_train_loss, central_train_accuracy = train(centralized_model, train_dl, centralized_criterion, centralized_optimizer)\n",
    "        central_test_loss, central_test_accuracy = validation(centralized_model, test_dl, centralized_criterion)\n",
    "        \n",
    "        train_acc.append(central_train_accuracy)\n",
    "        train_loss.append(central_train_loss)\n",
    "        test_acc.append(central_test_accuracy)\n",
    "        test_loss.append(central_test_loss)\n",
    "        \n",
    "        print(\"epoch: {:3.0f}\".format(epoch+1) + \" | train accuracy: {:7.4f}\".format(central_train_accuracy) + \" | test accuracy: {:7.4f}\".format(central_test_accuracy))\n",
    "    print(\" | train accuracy: {:7.4f}\".format(central_train_accuracy) + \" | test accuracy: {:7.4f}\".format(central_test_accuracy))\n",
    "    confusion_mat(centralized_model, test_dl)\n",
    "    \n",
    "print(\"------ Training finished ------\")\n",
    "print('Mean train accuracy: ' + str(sum(train_acc)/len(train_acc)))\n",
    "print('Mean test accuracy: ' + str(sum(test_acc)/len(test_acc)))\n"
   ]
  },
  {
   "cell_type": "code",
   "execution_count": 23,
   "id": "6f3b92e5",
   "metadata": {},
   "outputs": [
    {
     "data": {
      "text/plain": [
       "52"
      ]
     },
     "execution_count": 23,
     "metadata": {},
     "output_type": "execute_result"
    }
   ],
   "source": [
    "file.write('\\nCentralized Mean train accuracy: ' + str(sum(train_acc)/len(train_acc)))\n",
    "file.write('\\nCentralized Mean test accuracy: ' + str(sum(test_acc)/len(test_acc)))"
   ]
  },
  {
   "cell_type": "code",
   "execution_count": 24,
   "id": "9851821e",
   "metadata": {},
   "outputs": [
    {
     "name": "stdout",
     "output_type": "stream",
     "text": [
      "torch.Size([17542, 86]) torch.Size([17542])\n",
      "torch.Size([9629, 86]) torch.Size([9629])\n"
     ]
    }
   ],
   "source": [
    "print(x_train_dict[\"x_train1\"].shape, y_train_dict[\"y_train1\"].shape)\n",
    "print(x_test.shape, y_test.shape)"
   ]
  },
  {
   "cell_type": "code",
   "execution_count": 25,
   "id": "c5961c82",
   "metadata": {},
   "outputs": [],
   "source": [
    "main_model = Net2nn(inputs,outputs)\n",
    "main_optimizer = torch.optim.SGD(main_model.parameters(), lr=learning_rate, momentum=0.9)\n",
    "main_criterion = nn.CrossEntropyLoss()"
   ]
  },
  {
   "cell_type": "code",
   "execution_count": 26,
   "id": "49f5495c",
   "metadata": {},
   "outputs": [],
   "source": [
    "model_dict, optimizer_dict, criterion_dict = create_model_optimizer_criterion_dict(number_of_slices)"
   ]
  },
  {
   "cell_type": "code",
   "execution_count": 27,
   "id": "59415549",
   "metadata": {},
   "outputs": [
    {
     "name": "stdout",
     "output_type": "stream",
     "text": [
      "['x_train0', 'x_train1']\n",
      "['y_train0', 'y_train1']\n",
      "\n",
      " ------------\n",
      "['model0', 'model1']\n",
      "['optimizer0', 'optimizer1']\n",
      "['criterion0', 'criterion1']\n"
     ]
    }
   ],
   "source": [
    "name_of_x_train_sets=list(x_train_dict.keys())\n",
    "name_of_y_train_sets=list(y_train_dict.keys())\n",
    "\n",
    "name_of_models=list(model_dict.keys())\n",
    "name_of_optimizers=list(optimizer_dict.keys())\n",
    "name_of_criterions=list(criterion_dict.keys())\n",
    "\n",
    "print(name_of_x_train_sets)\n",
    "print(name_of_y_train_sets)\n",
    "print(\"\\n ------------\")\n",
    "print(name_of_models)\n",
    "print(name_of_optimizers)\n",
    "print(name_of_criterions)"
   ]
  },
  {
   "cell_type": "code",
   "execution_count": 28,
   "id": "17d7afff",
   "metadata": {},
   "outputs": [
    {
     "name": "stdout",
     "output_type": "stream",
     "text": [
      "tensor([[ 0.0491, -0.0223, -0.0697, -0.0145,  0.0012]],\n",
      "       grad_fn=<SliceBackward>)\n",
      "tensor([[-0.0631,  0.0156,  0.0304, -0.0343,  0.0348]],\n",
      "       grad_fn=<SliceBackward>)\n"
     ]
    }
   ],
   "source": [
    "print(main_model.fc2.weight[0:1,0:5])\n",
    "print(model_dict[\"model1\"].fc2.weight[0:1,0:5])"
   ]
  },
  {
   "cell_type": "code",
   "execution_count": 29,
   "id": "6464bd16",
   "metadata": {},
   "outputs": [
    {
     "name": "stdout",
     "output_type": "stream",
     "text": [
      "Updating model :model0\n",
      "Updating model :model1\n"
     ]
    }
   ],
   "source": [
    "model_dict=send_main_model_to_nodes_and_update_model_dict(main_model, model_dict, number_of_slices)"
   ]
  },
  {
   "cell_type": "code",
   "execution_count": 30,
   "id": "ec2e1051",
   "metadata": {},
   "outputs": [
    {
     "name": "stdout",
     "output_type": "stream",
     "text": [
      "tensor([[ 0.0491, -0.0223, -0.0697, -0.0145,  0.0012]],\n",
      "       grad_fn=<SliceBackward>)\n",
      "tensor([[ 0.0491, -0.0223, -0.0697, -0.0145,  0.0012]],\n",
      "       grad_fn=<SliceBackward>)\n"
     ]
    }
   ],
   "source": [
    "print(main_model.fc2.weight[0:1,0:5])\n",
    "print(model_dict[\"model1\"].fc2.weight[0:1,0:5])"
   ]
  },
  {
   "cell_type": "code",
   "execution_count": 31,
   "id": "7689e7ed",
   "metadata": {},
   "outputs": [
    {
     "name": "stdout",
     "output_type": "stream",
     "text": [
      "Federated learning for slice 1\n",
      "Subset 0\n",
      "epoch:   1 | train accuracy: 0.97687 | test accuracy: 0.42144\n",
      "epoch:   2 | train accuracy: 0.99958 | test accuracy: 0.42154\n",
      "epoch:   3 | train accuracy: 0.99958 | test accuracy: 0.42154\n",
      "epoch:   4 | train accuracy: 0.99947 | test accuracy: 0.42154\n",
      "epoch:   5 | train accuracy: 0.99958 | test accuracy: 0.42154\n",
      "epoch:   6 | train accuracy: 0.99968 | test accuracy: 0.42154\n",
      "epoch:   7 | train accuracy: 0.99968 | test accuracy: 0.42154\n",
      "epoch:   8 | train accuracy: 0.99968 | test accuracy: 0.42154\n",
      "epoch:   9 | train accuracy: 0.99974 | test accuracy: 0.42154\n",
      "epoch:  10 | train accuracy: 0.99974 | test accuracy: 0.42154\n",
      "epoch:  11 | train accuracy: 0.99974 | test accuracy: 0.42154\n",
      "epoch:  12 | train accuracy: 0.99968 | test accuracy: 0.42154\n",
      "epoch:  13 | train accuracy: 0.99974 | test accuracy: 0.42154\n",
      "epoch:  14 | train accuracy: 0.99979 | test accuracy: 0.42154\n",
      "epoch:  15 | train accuracy: 0.99979 | test accuracy: 0.42154\n",
      "epoch:  16 | train accuracy: 0.99979 | test accuracy: 0.42154\n",
      "epoch:  17 | train accuracy: 0.99984 | test accuracy: 0.42154\n",
      "epoch:  18 | train accuracy: 0.99979 | test accuracy: 0.42154\n",
      "epoch:  19 | train accuracy: 0.99979 | test accuracy: 0.42154\n",
      "epoch:  20 | train accuracy: 0.99979 | test accuracy: 0.42154\n",
      "Federated learning for slice 2\n",
      "Subset 1\n",
      "epoch:   1 | train accuracy: 0.99322 | test accuracy: 0.40482\n",
      "epoch:   2 | train accuracy: 1.00000 | test accuracy: 0.40482\n",
      "epoch:   3 | train accuracy: 1.00000 | test accuracy: 0.40482\n",
      "epoch:   4 | train accuracy: 1.00000 | test accuracy: 0.40482\n",
      "epoch:   5 | train accuracy: 1.00000 | test accuracy: 0.40482\n",
      "epoch:   6 | train accuracy: 1.00000 | test accuracy: 0.40482\n",
      "epoch:   7 | train accuracy: 1.00000 | test accuracy: 0.40482\n",
      "epoch:   8 | train accuracy: 1.00000 | test accuracy: 0.40482\n",
      "epoch:   9 | train accuracy: 1.00000 | test accuracy: 0.40482\n",
      "epoch:  10 | train accuracy: 1.00000 | test accuracy: 0.40482\n",
      "epoch:  11 | train accuracy: 1.00000 | test accuracy: 0.40482\n",
      "epoch:  12 | train accuracy: 1.00000 | test accuracy: 0.40482\n",
      "epoch:  13 | train accuracy: 1.00000 | test accuracy: 0.40482\n",
      "epoch:  14 | train accuracy: 1.00000 | test accuracy: 0.40482\n",
      "epoch:  15 | train accuracy: 1.00000 | test accuracy: 0.40482\n",
      "epoch:  16 | train accuracy: 1.00000 | test accuracy: 0.40482\n",
      "epoch:  17 | train accuracy: 1.00000 | test accuracy: 0.40482\n",
      "epoch:  18 | train accuracy: 1.00000 | test accuracy: 0.40482\n",
      "epoch:  19 | train accuracy: 1.00000 | test accuracy: 0.40482\n",
      "epoch:  20 | train accuracy: 1.00000 | test accuracy: 0.40482\n"
     ]
    }
   ],
   "source": [
    "# start_train_end_node_process()\n",
    "start_train_end_node_process_print_some(number_of_slices, print_amount)"
   ]
  },
  {
   "cell_type": "code",
   "execution_count": 32,
   "id": "23bec51c",
   "metadata": {},
   "outputs": [
    {
     "name": "stdout",
     "output_type": "stream",
     "text": [
      "tensor([ 0.0491, -0.0223, -0.0697, -0.0145,  0.0012], grad_fn=<SliceBackward>)\n",
      "tensor([ 0.0474, -0.0223, -0.0723, -0.0146,  0.0006], grad_fn=<SliceBackward>)\n"
     ]
    }
   ],
   "source": [
    "## As you can see, wieghts of local models are updated after training process\n",
    "print(main_model.fc2.weight[0,0:5])\n",
    "print(model_dict[\"model1\"].fc2.weight[0,0:5])"
   ]
  },
  {
   "cell_type": "code",
   "execution_count": 33,
   "id": "06336116",
   "metadata": {},
   "outputs": [
    {
     "name": "stderr",
     "output_type": "stream",
     "text": [
      "D:\\Softwares\\anaconda-python\\lib\\site-packages\\sklearn\\metrics\\_classification.py:1318: UndefinedMetricWarning: Precision is ill-defined and being set to 0.0 in labels with no predicted samples. Use `zero_division` parameter to control this behavior.\n",
      "  _warn_prf(average, modifier, msg_start, len(result))\n"
     ]
    },
    {
     "name": "stdout",
     "output_type": "stream",
     "text": [
      "precision value: 0.0034063765707757813\n",
      "recall value: 0.2\n",
      "confusion matrix for normal scenario for slices : 2\n",
      "[[   0    0    0    0 3898]\n",
      " [   0    0    0    0 3813]\n",
      " [   0    0    0    0 1160]\n",
      " [   0    0    0    0  594]\n",
      " [   0    0    0    0  164]]\n",
      "precision value: 0.08096375532246339\n",
      "recall value: 0.2\n",
      "confusion matrix for normal scenario for slices : 2\n",
      "[[3898    0    0    0    0]\n",
      " [3813    0    0    0    0]\n",
      " [1160    0    0    0    0]\n",
      " [ 594    0    0    0    0]\n",
      " [ 164    0    0    0    0]]\n"
     ]
    },
    {
     "name": "stderr",
     "output_type": "stream",
     "text": [
      "D:\\Softwares\\anaconda-python\\lib\\site-packages\\sklearn\\metrics\\_classification.py:1318: UndefinedMetricWarning: Precision is ill-defined and being set to 0.0 in labels with no predicted samples. Use `zero_division` parameter to control this behavior.\n",
      "  _warn_prf(average, modifier, msg_start, len(result))\n"
     ]
    }
   ],
   "source": [
    "before_acc_table=compare_local_and_merged_model_performance(number_of_slices=number_of_slices)\n",
    "before_test_loss, before_test_accuracy = validation(main_model, test_dl, main_criterion)\n",
    "file.write('\\nbefore training main model')\n",
    "confusion_mat(main_model, test_dl)\n",
    "\n",
    "main_model= set_averaged_weights_as_main_model_weights_and_update_main_model(main_model,model_dict, number_of_slices) \n",
    "\n",
    "after_acc_table=compare_local_and_merged_model_performance(number_of_slices=number_of_slices)\n",
    "after_test_loss, after_test_accuracy = validation(main_model, test_dl, main_criterion)\n",
    "file.write('\\nafter training main model')\n",
    "confusion_mat(main_model, test_dl)"
   ]
  },
  {
   "cell_type": "code",
   "execution_count": 34,
   "id": "f992e8d5",
   "metadata": {},
   "outputs": [
    {
     "name": "stdout",
     "output_type": "stream",
     "text": [
      "Federated main model vs individual local models before FedAvg first iteration\n"
     ]
    },
    {
     "data": {
      "text/html": [
       "<div>\n",
       "<style scoped>\n",
       "    .dataframe tbody tr th:only-of-type {\n",
       "        vertical-align: middle;\n",
       "    }\n",
       "\n",
       "    .dataframe tbody tr th {\n",
       "        vertical-align: top;\n",
       "    }\n",
       "\n",
       "    .dataframe thead th {\n",
       "        text-align: right;\n",
       "    }\n",
       "</style>\n",
       "<table border=\"1\" class=\"dataframe\">\n",
       "  <thead>\n",
       "    <tr style=\"text-align: right;\">\n",
       "      <th></th>\n",
       "      <th>sample</th>\n",
       "      <th>local_ind_model</th>\n",
       "      <th>merged_main_model</th>\n",
       "    </tr>\n",
       "  </thead>\n",
       "  <tbody>\n",
       "    <tr>\n",
       "      <th>0</th>\n",
       "      <td>sample 0</td>\n",
       "      <td>0.4215</td>\n",
       "      <td>0.0170</td>\n",
       "    </tr>\n",
       "    <tr>\n",
       "      <th>1</th>\n",
       "      <td>sample 1</td>\n",
       "      <td>0.4048</td>\n",
       "      <td>0.0170</td>\n",
       "    </tr>\n",
       "  </tbody>\n",
       "</table>\n",
       "</div>"
      ],
      "text/plain": [
       "     sample  local_ind_model  merged_main_model\n",
       "0  sample 0           0.4215             0.0170\n",
       "1  sample 1           0.4048             0.0170"
      ]
     },
     "execution_count": 34,
     "metadata": {},
     "output_type": "execute_result"
    }
   ],
   "source": [
    "print(\"Federated main model vs individual local models before FedAvg first iteration\")\n",
    "file.write('\\nBefore training federated')\n",
    "file.write('\\n'+str(before_acc_table))\n",
    "before_acc_table"
   ]
  },
  {
   "cell_type": "code",
   "execution_count": 35,
   "id": "8f5ff331",
   "metadata": {},
   "outputs": [
    {
     "name": "stdout",
     "output_type": "stream",
     "text": [
      "Federated main model vs individual local models after FedAvg first iteration\n"
     ]
    },
    {
     "data": {
      "text/html": [
       "<div>\n",
       "<style scoped>\n",
       "    .dataframe tbody tr th:only-of-type {\n",
       "        vertical-align: middle;\n",
       "    }\n",
       "\n",
       "    .dataframe tbody tr th {\n",
       "        vertical-align: top;\n",
       "    }\n",
       "\n",
       "    .dataframe thead th {\n",
       "        text-align: right;\n",
       "    }\n",
       "</style>\n",
       "<table border=\"1\" class=\"dataframe\">\n",
       "  <thead>\n",
       "    <tr style=\"text-align: right;\">\n",
       "      <th></th>\n",
       "      <th>sample</th>\n",
       "      <th>local_ind_model</th>\n",
       "      <th>merged_main_model</th>\n",
       "    </tr>\n",
       "  </thead>\n",
       "  <tbody>\n",
       "    <tr>\n",
       "      <th>0</th>\n",
       "      <td>sample 0</td>\n",
       "      <td>0.4215</td>\n",
       "      <td>0.4048</td>\n",
       "    </tr>\n",
       "    <tr>\n",
       "      <th>1</th>\n",
       "      <td>sample 1</td>\n",
       "      <td>0.4048</td>\n",
       "      <td>0.4048</td>\n",
       "    </tr>\n",
       "  </tbody>\n",
       "</table>\n",
       "</div>"
      ],
      "text/plain": [
       "     sample  local_ind_model  merged_main_model\n",
       "0  sample 0           0.4215             0.4048\n",
       "1  sample 1           0.4048             0.4048"
      ]
     },
     "execution_count": 35,
     "metadata": {},
     "output_type": "execute_result"
    }
   ],
   "source": [
    "print(\"Federated main model vs individual local models after FedAvg first iteration\")\n",
    "file.write('\\nAfter training federated')\n",
    "file.write('\\n'+str(after_acc_table))\n",
    "after_acc_table"
   ]
  },
  {
   "cell_type": "code",
   "execution_count": 36,
   "id": "e66d749d",
   "metadata": {},
   "outputs": [
    {
     "name": "stdout",
     "output_type": "stream",
     "text": [
      "Before 1st iteration main model accuracy on all test data:  0.0170\n",
      "After 1st iteration main model accuracy on all test data:  0.4048\n",
      "Centralized model accuracy on all test data:  0.4048\n"
     ]
    }
   ],
   "source": [
    "print(\"Before 1st iteration main model accuracy on all test data: {:7.4f}\".format(before_test_accuracy))\n",
    "print(\"After 1st iteration main model accuracy on all test data: {:7.4f}\".format(after_test_accuracy))\n",
    "print(\"Centralized model accuracy on all test data: {:7.4f}\".format(central_test_accuracy))"
   ]
  },
  {
   "cell_type": "code",
   "execution_count": 37,
   "id": "93b08114",
   "metadata": {},
   "outputs": [
    {
     "name": "stdout",
     "output_type": "stream",
     "text": [
      "Updating model :model0\n",
      "Updating model :model1\n",
      "Iteration 2 : main_model accuracy on all test data:  0.4110\n"
     ]
    },
    {
     "name": "stderr",
     "output_type": "stream",
     "text": [
      "D:\\Softwares\\anaconda-python\\lib\\site-packages\\sklearn\\metrics\\_classification.py:1318: UndefinedMetricWarning: Precision is ill-defined and being set to 0.0 in labels with no predicted samples. Use `zero_division` parameter to control this behavior.\n",
      "  _warn_prf(average, modifier, msg_start, len(result))\n"
     ]
    },
    {
     "name": "stdout",
     "output_type": "stream",
     "text": [
      "precision value: 0.2814714181210158\n",
      "recall value: 0.27317073170731704\n",
      "confusion matrix for normal scenario for slices : 2\n",
      "[[3898    0    0    0    0]\n",
      " [3813    0    0    0    0]\n",
      " [1160    0    0    0    0]\n",
      " [ 594    0    0    0    0]\n",
      " [ 104    0    0    0   60]]\n",
      "Updating model :model0\n",
      "Updating model :model1\n",
      "Iteration 3 : main_model accuracy on all test data:  0.4216\n"
     ]
    },
    {
     "name": "stderr",
     "output_type": "stream",
     "text": [
      "D:\\Softwares\\anaconda-python\\lib\\site-packages\\sklearn\\metrics\\_classification.py:1318: UndefinedMetricWarning: Precision is ill-defined and being set to 0.0 in labels with no predicted samples. Use `zero_division` parameter to control this behavior.\n",
      "  _warn_prf(average, modifier, msg_start, len(result))\n"
     ]
    },
    {
     "name": "stdout",
     "output_type": "stream",
     "text": [
      "precision value: 0.28234921305587835\n",
      "recall value: 0.3975609756097561\n",
      "confusion matrix for normal scenario for slices : 2\n",
      "[[3898    0    0    0    0]\n",
      " [3813    0    0    0    0]\n",
      " [1160    0    0    0    0]\n",
      " [ 594    0    0    0    0]\n",
      " [   2    0    0    0  162]]\n",
      "Updating model :model0\n",
      "Updating model :model1\n",
      "Iteration 4 : main_model accuracy on all test data:  0.4216\n"
     ]
    },
    {
     "name": "stderr",
     "output_type": "stream",
     "text": [
      "D:\\Softwares\\anaconda-python\\lib\\site-packages\\sklearn\\metrics\\_classification.py:1318: UndefinedMetricWarning: Precision is ill-defined and being set to 0.0 in labels with no predicted samples. Use `zero_division` parameter to control this behavior.\n",
      "  _warn_prf(average, modifier, msg_start, len(result))\n"
     ]
    },
    {
     "name": "stdout",
     "output_type": "stream",
     "text": [
      "precision value: 0.28234921305587835\n",
      "recall value: 0.3975609756097561\n",
      "confusion matrix for normal scenario for slices : 2\n",
      "[[3898    0    0    0    0]\n",
      " [3813    0    0    0    0]\n",
      " [1160    0    0    0    0]\n",
      " [ 594    0    0    0    0]\n",
      " [   2    0    0    0  162]]\n",
      "Updating model :model0\n",
      "Updating model :model1\n",
      "Iteration 5 : main_model accuracy on all test data:  0.4216\n"
     ]
    },
    {
     "name": "stderr",
     "output_type": "stream",
     "text": [
      "D:\\Softwares\\anaconda-python\\lib\\site-packages\\sklearn\\metrics\\_classification.py:1318: UndefinedMetricWarning: Precision is ill-defined and being set to 0.0 in labels with no predicted samples. Use `zero_division` parameter to control this behavior.\n",
      "  _warn_prf(average, modifier, msg_start, len(result))\n"
     ]
    },
    {
     "name": "stdout",
     "output_type": "stream",
     "text": [
      "precision value: 0.28234921305587835\n",
      "recall value: 0.3975609756097561\n",
      "confusion matrix for normal scenario for slices : 2\n",
      "[[3898    0    0    0    0]\n",
      " [3813    0    0    0    0]\n",
      " [1160    0    0    0    0]\n",
      " [ 594    0    0    0    0]\n",
      " [   2    0    0    0  162]]\n",
      "Updating model :model0\n",
      "Updating model :model1\n",
      "Iteration 6 : main_model accuracy on all test data:  0.4216\n"
     ]
    },
    {
     "name": "stderr",
     "output_type": "stream",
     "text": [
      "D:\\Softwares\\anaconda-python\\lib\\site-packages\\sklearn\\metrics\\_classification.py:1318: UndefinedMetricWarning: Precision is ill-defined and being set to 0.0 in labels with no predicted samples. Use `zero_division` parameter to control this behavior.\n",
      "  _warn_prf(average, modifier, msg_start, len(result))\n"
     ]
    },
    {
     "name": "stdout",
     "output_type": "stream",
     "text": [
      "precision value: 0.28234921305587835\n",
      "recall value: 0.3975609756097561\n",
      "confusion matrix for normal scenario for slices : 2\n",
      "[[3898    0    0    0    0]\n",
      " [3813    0    0    0    0]\n",
      " [1160    0    0    0    0]\n",
      " [ 594    0    0    0    0]\n",
      " [   2    0    0    0  162]]\n",
      "Updating model :model0\n",
      "Updating model :model1\n",
      "Iteration 7 : main_model accuracy on all test data:  0.4216\n"
     ]
    },
    {
     "name": "stderr",
     "output_type": "stream",
     "text": [
      "D:\\Softwares\\anaconda-python\\lib\\site-packages\\sklearn\\metrics\\_classification.py:1318: UndefinedMetricWarning: Precision is ill-defined and being set to 0.0 in labels with no predicted samples. Use `zero_division` parameter to control this behavior.\n",
      "  _warn_prf(average, modifier, msg_start, len(result))\n"
     ]
    },
    {
     "name": "stdout",
     "output_type": "stream",
     "text": [
      "precision value: 0.28234921305587835\n",
      "recall value: 0.3975609756097561\n",
      "confusion matrix for normal scenario for slices : 2\n",
      "[[3898    0    0    0    0]\n",
      " [3813    0    0    0    0]\n",
      " [1160    0    0    0    0]\n",
      " [ 594    0    0    0    0]\n",
      " [   2    0    0    0  162]]\n",
      "Updating model :model0\n",
      "Updating model :model1\n",
      "Iteration 8 : main_model accuracy on all test data:  0.4216\n"
     ]
    },
    {
     "name": "stderr",
     "output_type": "stream",
     "text": [
      "D:\\Softwares\\anaconda-python\\lib\\site-packages\\sklearn\\metrics\\_classification.py:1318: UndefinedMetricWarning: Precision is ill-defined and being set to 0.0 in labels with no predicted samples. Use `zero_division` parameter to control this behavior.\n",
      "  _warn_prf(average, modifier, msg_start, len(result))\n"
     ]
    },
    {
     "name": "stdout",
     "output_type": "stream",
     "text": [
      "precision value: 0.28234921305587835\n",
      "recall value: 0.3975609756097561\n",
      "confusion matrix for normal scenario for slices : 2\n",
      "[[3898    0    0    0    0]\n",
      " [3813    0    0    0    0]\n",
      " [1160    0    0    0    0]\n",
      " [ 594    0    0    0    0]\n",
      " [   2    0    0    0  162]]\n",
      "Updating model :model0\n",
      "Updating model :model1\n",
      "Iteration 9 : main_model accuracy on all test data:  0.4215\n"
     ]
    },
    {
     "name": "stderr",
     "output_type": "stream",
     "text": [
      "D:\\Softwares\\anaconda-python\\lib\\site-packages\\sklearn\\metrics\\_classification.py:1318: UndefinedMetricWarning: Precision is ill-defined and being set to 0.0 in labels with no predicted samples. Use `zero_division` parameter to control this behavior.\n",
      "  _warn_prf(average, modifier, msg_start, len(result))\n"
     ]
    },
    {
     "name": "stdout",
     "output_type": "stream",
     "text": [
      "precision value: 0.2811097904155525\n",
      "recall value: 0.3975096672464929\n",
      "confusion matrix for normal scenario for slices : 2\n",
      "[[3897    0    0    0    1]\n",
      " [3813    0    0    0    0]\n",
      " [1160    0    0    0    0]\n",
      " [ 594    0    0    0    0]\n",
      " [   2    0    0    0  162]]\n",
      "Updating model :model0\n",
      "Updating model :model1\n",
      "Iteration 10 : main_model accuracy on all test data:  0.4216\n"
     ]
    },
    {
     "name": "stderr",
     "output_type": "stream",
     "text": [
      "D:\\Softwares\\anaconda-python\\lib\\site-packages\\sklearn\\metrics\\_classification.py:1318: UndefinedMetricWarning: Precision is ill-defined and being set to 0.0 in labels with no predicted samples. Use `zero_division` parameter to control this behavior.\n",
      "  _warn_prf(average, modifier, msg_start, len(result))\n"
     ]
    },
    {
     "name": "stdout",
     "output_type": "stream",
     "text": [
      "precision value: 0.28234921305587835\n",
      "recall value: 0.3975609756097561\n",
      "confusion matrix for normal scenario for slices : 2\n",
      "[[3898    0    0    0    0]\n",
      " [3813    0    0    0    0]\n",
      " [1160    0    0    0    0]\n",
      " [ 594    0    0    0    0]\n",
      " [   2    0    0    0  162]]\n",
      "Updating model :model0\n",
      "Updating model :model1\n",
      "Iteration 11 : main_model accuracy on all test data:  0.4216\n"
     ]
    },
    {
     "name": "stderr",
     "output_type": "stream",
     "text": [
      "D:\\Softwares\\anaconda-python\\lib\\site-packages\\sklearn\\metrics\\_classification.py:1318: UndefinedMetricWarning: Precision is ill-defined and being set to 0.0 in labels with no predicted samples. Use `zero_division` parameter to control this behavior.\n",
      "  _warn_prf(average, modifier, msg_start, len(result))\n"
     ]
    },
    {
     "name": "stdout",
     "output_type": "stream",
     "text": [
      "precision value: 0.28234921305587835\n",
      "recall value: 0.3975609756097561\n",
      "confusion matrix for normal scenario for slices : 2\n",
      "[[3898    0    0    0    0]\n",
      " [3813    0    0    0    0]\n",
      " [1160    0    0    0    0]\n",
      " [ 594    0    0    0    0]\n",
      " [   2    0    0    0  162]]\n",
      "Updating model :model0\n",
      "Updating model :model1\n",
      "Iteration 12 : main_model accuracy on all test data:  0.4216\n"
     ]
    },
    {
     "name": "stderr",
     "output_type": "stream",
     "text": [
      "D:\\Softwares\\anaconda-python\\lib\\site-packages\\sklearn\\metrics\\_classification.py:1318: UndefinedMetricWarning: Precision is ill-defined and being set to 0.0 in labels with no predicted samples. Use `zero_division` parameter to control this behavior.\n",
      "  _warn_prf(average, modifier, msg_start, len(result))\n"
     ]
    },
    {
     "name": "stdout",
     "output_type": "stream",
     "text": [
      "precision value: 0.28234921305587835\n",
      "recall value: 0.3975609756097561\n",
      "confusion matrix for normal scenario for slices : 2\n",
      "[[3898    0    0    0    0]\n",
      " [3813    0    0    0    0]\n",
      " [1160    0    0    0    0]\n",
      " [ 594    0    0    0    0]\n",
      " [   2    0    0    0  162]]\n",
      "Updating model :model0\n",
      "Updating model :model1\n",
      "Iteration 13 : main_model accuracy on all test data:  0.4216\n"
     ]
    },
    {
     "name": "stderr",
     "output_type": "stream",
     "text": [
      "D:\\Softwares\\anaconda-python\\lib\\site-packages\\sklearn\\metrics\\_classification.py:1318: UndefinedMetricWarning: Precision is ill-defined and being set to 0.0 in labels with no predicted samples. Use `zero_division` parameter to control this behavior.\n",
      "  _warn_prf(average, modifier, msg_start, len(result))\n"
     ]
    },
    {
     "name": "stdout",
     "output_type": "stream",
     "text": [
      "precision value: 0.28234921305587835\n",
      "recall value: 0.3975609756097561\n",
      "confusion matrix for normal scenario for slices : 2\n",
      "[[3898    0    0    0    0]\n",
      " [3813    0    0    0    0]\n",
      " [1160    0    0    0    0]\n",
      " [ 594    0    0    0    0]\n",
      " [   2    0    0    0  162]]\n",
      "Updating model :model0\n",
      "Updating model :model1\n",
      "Iteration 14 : main_model accuracy on all test data:  0.4216\n"
     ]
    },
    {
     "name": "stderr",
     "output_type": "stream",
     "text": [
      "D:\\Softwares\\anaconda-python\\lib\\site-packages\\sklearn\\metrics\\_classification.py:1318: UndefinedMetricWarning: Precision is ill-defined and being set to 0.0 in labels with no predicted samples. Use `zero_division` parameter to control this behavior.\n",
      "  _warn_prf(average, modifier, msg_start, len(result))\n"
     ]
    },
    {
     "name": "stdout",
     "output_type": "stream",
     "text": [
      "precision value: 0.28234921305587835\n",
      "recall value: 0.3975609756097561\n",
      "confusion matrix for normal scenario for slices : 2\n",
      "[[3898    0    0    0    0]\n",
      " [3813    0    0    0    0]\n",
      " [1160    0    0    0    0]\n",
      " [ 594    0    0    0    0]\n",
      " [   2    0    0    0  162]]\n",
      "Updating model :model0\n",
      "Updating model :model1\n",
      "Iteration 15 : main_model accuracy on all test data:  0.4215\n"
     ]
    },
    {
     "name": "stderr",
     "output_type": "stream",
     "text": [
      "D:\\Softwares\\anaconda-python\\lib\\site-packages\\sklearn\\metrics\\_classification.py:1318: UndefinedMetricWarning: Precision is ill-defined and being set to 0.0 in labels with no predicted samples. Use `zero_division` parameter to control this behavior.\n",
      "  _warn_prf(average, modifier, msg_start, len(result))\n"
     ]
    },
    {
     "name": "stdout",
     "output_type": "stream",
     "text": [
      "precision value: 0.2811097904155525\n",
      "recall value: 0.3975096672464929\n",
      "confusion matrix for normal scenario for slices : 2\n",
      "[[3897    0    0    0    1]\n",
      " [3813    0    0    0    0]\n",
      " [1160    0    0    0    0]\n",
      " [ 594    0    0    0    0]\n",
      " [   2    0    0    0  162]]\n",
      "Updating model :model0\n",
      "Updating model :model1\n",
      "Iteration 16 : main_model accuracy on all test data:  0.4216\n"
     ]
    },
    {
     "name": "stderr",
     "output_type": "stream",
     "text": [
      "D:\\Softwares\\anaconda-python\\lib\\site-packages\\sklearn\\metrics\\_classification.py:1318: UndefinedMetricWarning: Precision is ill-defined and being set to 0.0 in labels with no predicted samples. Use `zero_division` parameter to control this behavior.\n",
      "  _warn_prf(average, modifier, msg_start, len(result))\n"
     ]
    },
    {
     "name": "stdout",
     "output_type": "stream",
     "text": [
      "precision value: 0.28234921305587835\n",
      "recall value: 0.3975609756097561\n",
      "confusion matrix for normal scenario for slices : 2\n",
      "[[3898    0    0    0    0]\n",
      " [3813    0    0    0    0]\n",
      " [1160    0    0    0    0]\n",
      " [ 594    0    0    0    0]\n",
      " [   2    0    0    0  162]]\n",
      "Updating model :model0\n",
      "Updating model :model1\n",
      "Iteration 17 : main_model accuracy on all test data:  0.4215\n"
     ]
    },
    {
     "name": "stderr",
     "output_type": "stream",
     "text": [
      "D:\\Softwares\\anaconda-python\\lib\\site-packages\\sklearn\\metrics\\_classification.py:1318: UndefinedMetricWarning: Precision is ill-defined and being set to 0.0 in labels with no predicted samples. Use `zero_division` parameter to control this behavior.\n",
      "  _warn_prf(average, modifier, msg_start, len(result))\n"
     ]
    },
    {
     "name": "stdout",
     "output_type": "stream",
     "text": [
      "precision value: 0.2811097904155525\n",
      "recall value: 0.3975096672464929\n",
      "confusion matrix for normal scenario for slices : 2\n",
      "[[3897    0    0    0    1]\n",
      " [3813    0    0    0    0]\n",
      " [1160    0    0    0    0]\n",
      " [ 594    0    0    0    0]\n",
      " [   2    0    0    0  162]]\n",
      "Updating model :model0\n",
      "Updating model :model1\n",
      "Iteration 18 : main_model accuracy on all test data:  0.4216\n"
     ]
    },
    {
     "name": "stderr",
     "output_type": "stream",
     "text": [
      "D:\\Softwares\\anaconda-python\\lib\\site-packages\\sklearn\\metrics\\_classification.py:1318: UndefinedMetricWarning: Precision is ill-defined and being set to 0.0 in labels with no predicted samples. Use `zero_division` parameter to control this behavior.\n",
      "  _warn_prf(average, modifier, msg_start, len(result))\n"
     ]
    },
    {
     "name": "stdout",
     "output_type": "stream",
     "text": [
      "precision value: 0.28234921305587835\n",
      "recall value: 0.3975609756097561\n",
      "confusion matrix for normal scenario for slices : 2\n",
      "[[3898    0    0    0    0]\n",
      " [3813    0    0    0    0]\n",
      " [1160    0    0    0    0]\n",
      " [ 594    0    0    0    0]\n",
      " [   2    0    0    0  162]]\n",
      "Updating model :model0\n",
      "Updating model :model1\n",
      "Iteration 19 : main_model accuracy on all test data:  0.4216\n"
     ]
    },
    {
     "name": "stderr",
     "output_type": "stream",
     "text": [
      "D:\\Softwares\\anaconda-python\\lib\\site-packages\\sklearn\\metrics\\_classification.py:1318: UndefinedMetricWarning: Precision is ill-defined and being set to 0.0 in labels with no predicted samples. Use `zero_division` parameter to control this behavior.\n",
      "  _warn_prf(average, modifier, msg_start, len(result))\n"
     ]
    },
    {
     "name": "stdout",
     "output_type": "stream",
     "text": [
      "precision value: 0.28234921305587835\n",
      "recall value: 0.3975609756097561\n",
      "confusion matrix for normal scenario for slices : 2\n",
      "[[3898    0    0    0    0]\n",
      " [3813    0    0    0    0]\n",
      " [1160    0    0    0    0]\n",
      " [ 594    0    0    0    0]\n",
      " [   2    0    0    0  162]]\n",
      "Updating model :model0\n",
      "Updating model :model1\n",
      "Iteration 20 : main_model accuracy on all test data:  0.4216\n"
     ]
    },
    {
     "name": "stderr",
     "output_type": "stream",
     "text": [
      "D:\\Softwares\\anaconda-python\\lib\\site-packages\\sklearn\\metrics\\_classification.py:1318: UndefinedMetricWarning: Precision is ill-defined and being set to 0.0 in labels with no predicted samples. Use `zero_division` parameter to control this behavior.\n",
      "  _warn_prf(average, modifier, msg_start, len(result))\n"
     ]
    },
    {
     "name": "stdout",
     "output_type": "stream",
     "text": [
      "precision value: 0.28234921305587835\n",
      "recall value: 0.3975609756097561\n",
      "confusion matrix for normal scenario for slices : 2\n",
      "[[3898    0    0    0    0]\n",
      " [3813    0    0    0    0]\n",
      " [1160    0    0    0    0]\n",
      " [ 594    0    0    0    0]\n",
      " [   2    0    0    0  162]]\n",
      "Updating model :model0\n",
      "Updating model :model1\n",
      "Iteration 21 : main_model accuracy on all test data:  0.4216\n"
     ]
    },
    {
     "name": "stderr",
     "output_type": "stream",
     "text": [
      "D:\\Softwares\\anaconda-python\\lib\\site-packages\\sklearn\\metrics\\_classification.py:1318: UndefinedMetricWarning: Precision is ill-defined and being set to 0.0 in labels with no predicted samples. Use `zero_division` parameter to control this behavior.\n",
      "  _warn_prf(average, modifier, msg_start, len(result))\n"
     ]
    },
    {
     "name": "stdout",
     "output_type": "stream",
     "text": [
      "precision value: 0.28234921305587835\n",
      "recall value: 0.3975609756097561\n",
      "confusion matrix for normal scenario for slices : 2\n",
      "[[3898    0    0    0    0]\n",
      " [3813    0    0    0    0]\n",
      " [1160    0    0    0    0]\n",
      " [ 594    0    0    0    0]\n",
      " [   2    0    0    0  162]]\n",
      "Updating model :model0\n",
      "Updating model :model1\n",
      "Iteration 22 : main_model accuracy on all test data:  0.4216\n"
     ]
    },
    {
     "name": "stderr",
     "output_type": "stream",
     "text": [
      "D:\\Softwares\\anaconda-python\\lib\\site-packages\\sklearn\\metrics\\_classification.py:1318: UndefinedMetricWarning: Precision is ill-defined and being set to 0.0 in labels with no predicted samples. Use `zero_division` parameter to control this behavior.\n",
      "  _warn_prf(average, modifier, msg_start, len(result))\n"
     ]
    },
    {
     "name": "stdout",
     "output_type": "stream",
     "text": [
      "precision value: 0.28234921305587835\n",
      "recall value: 0.3975609756097561\n",
      "confusion matrix for normal scenario for slices : 2\n",
      "[[3898    0    0    0    0]\n",
      " [3813    0    0    0    0]\n",
      " [1160    0    0    0    0]\n",
      " [ 594    0    0    0    0]\n",
      " [   2    0    0    0  162]]\n",
      "Updating model :model0\n",
      "Updating model :model1\n",
      "Iteration 23 : main_model accuracy on all test data:  0.4215\n"
     ]
    },
    {
     "name": "stderr",
     "output_type": "stream",
     "text": [
      "D:\\Softwares\\anaconda-python\\lib\\site-packages\\sklearn\\metrics\\_classification.py:1318: UndefinedMetricWarning: Precision is ill-defined and being set to 0.0 in labels with no predicted samples. Use `zero_division` parameter to control this behavior.\n",
      "  _warn_prf(average, modifier, msg_start, len(result))\n"
     ]
    },
    {
     "name": "stdout",
     "output_type": "stream",
     "text": [
      "precision value: 0.2811097904155525\n",
      "recall value: 0.3975096672464929\n",
      "confusion matrix for normal scenario for slices : 2\n",
      "[[3897    0    0    0    1]\n",
      " [3813    0    0    0    0]\n",
      " [1160    0    0    0    0]\n",
      " [ 594    0    0    0    0]\n",
      " [   2    0    0    0  162]]\n",
      "Updating model :model0\n",
      "Updating model :model1\n",
      "Iteration 24 : main_model accuracy on all test data:  0.4216\n"
     ]
    },
    {
     "name": "stderr",
     "output_type": "stream",
     "text": [
      "D:\\Softwares\\anaconda-python\\lib\\site-packages\\sklearn\\metrics\\_classification.py:1318: UndefinedMetricWarning: Precision is ill-defined and being set to 0.0 in labels with no predicted samples. Use `zero_division` parameter to control this behavior.\n",
      "  _warn_prf(average, modifier, msg_start, len(result))\n"
     ]
    },
    {
     "name": "stdout",
     "output_type": "stream",
     "text": [
      "precision value: 0.28234921305587835\n",
      "recall value: 0.3975609756097561\n",
      "confusion matrix for normal scenario for slices : 2\n",
      "[[3898    0    0    0    0]\n",
      " [3813    0    0    0    0]\n",
      " [1160    0    0    0    0]\n",
      " [ 594    0    0    0    0]\n",
      " [   2    0    0    0  162]]\n",
      "Updating model :model0\n",
      "Updating model :model1\n",
      "Iteration 25 : main_model accuracy on all test data:  0.4216\n"
     ]
    },
    {
     "name": "stderr",
     "output_type": "stream",
     "text": [
      "D:\\Softwares\\anaconda-python\\lib\\site-packages\\sklearn\\metrics\\_classification.py:1318: UndefinedMetricWarning: Precision is ill-defined and being set to 0.0 in labels with no predicted samples. Use `zero_division` parameter to control this behavior.\n",
      "  _warn_prf(average, modifier, msg_start, len(result))\n"
     ]
    },
    {
     "name": "stdout",
     "output_type": "stream",
     "text": [
      "precision value: 0.28234921305587835\n",
      "recall value: 0.3975609756097561\n",
      "confusion matrix for normal scenario for slices : 2\n",
      "[[3898    0    0    0    0]\n",
      " [3813    0    0    0    0]\n",
      " [1160    0    0    0    0]\n",
      " [ 594    0    0    0    0]\n",
      " [   2    0    0    0  162]]\n",
      "Updating model :model0\n",
      "Updating model :model1\n",
      "Iteration 26 : main_model accuracy on all test data:  0.4216\n"
     ]
    },
    {
     "name": "stderr",
     "output_type": "stream",
     "text": [
      "D:\\Softwares\\anaconda-python\\lib\\site-packages\\sklearn\\metrics\\_classification.py:1318: UndefinedMetricWarning: Precision is ill-defined and being set to 0.0 in labels with no predicted samples. Use `zero_division` parameter to control this behavior.\n",
      "  _warn_prf(average, modifier, msg_start, len(result))\n"
     ]
    },
    {
     "name": "stdout",
     "output_type": "stream",
     "text": [
      "precision value: 0.28234921305587835\n",
      "recall value: 0.3975609756097561\n",
      "confusion matrix for normal scenario for slices : 2\n",
      "[[3898    0    0    0    0]\n",
      " [3813    0    0    0    0]\n",
      " [1160    0    0    0    0]\n",
      " [ 594    0    0    0    0]\n",
      " [   2    0    0    0  162]]\n",
      "Updating model :model0\n",
      "Updating model :model1\n",
      "Iteration 27 : main_model accuracy on all test data:  0.4216\n"
     ]
    },
    {
     "name": "stderr",
     "output_type": "stream",
     "text": [
      "D:\\Softwares\\anaconda-python\\lib\\site-packages\\sklearn\\metrics\\_classification.py:1318: UndefinedMetricWarning: Precision is ill-defined and being set to 0.0 in labels with no predicted samples. Use `zero_division` parameter to control this behavior.\n",
      "  _warn_prf(average, modifier, msg_start, len(result))\n"
     ]
    },
    {
     "name": "stdout",
     "output_type": "stream",
     "text": [
      "precision value: 0.28234921305587835\n",
      "recall value: 0.3975609756097561\n",
      "confusion matrix for normal scenario for slices : 2\n",
      "[[3898    0    0    0    0]\n",
      " [3813    0    0    0    0]\n",
      " [1160    0    0    0    0]\n",
      " [ 594    0    0    0    0]\n",
      " [   2    0    0    0  162]]\n",
      "Updating model :model0\n",
      "Updating model :model1\n",
      "Iteration 28 : main_model accuracy on all test data:  0.4216\n"
     ]
    },
    {
     "name": "stderr",
     "output_type": "stream",
     "text": [
      "D:\\Softwares\\anaconda-python\\lib\\site-packages\\sklearn\\metrics\\_classification.py:1318: UndefinedMetricWarning: Precision is ill-defined and being set to 0.0 in labels with no predicted samples. Use `zero_division` parameter to control this behavior.\n",
      "  _warn_prf(average, modifier, msg_start, len(result))\n"
     ]
    },
    {
     "name": "stdout",
     "output_type": "stream",
     "text": [
      "precision value: 0.28234921305587835\n",
      "recall value: 0.3975609756097561\n",
      "confusion matrix for normal scenario for slices : 2\n",
      "[[3898    0    0    0    0]\n",
      " [3813    0    0    0    0]\n",
      " [1160    0    0    0    0]\n",
      " [ 594    0    0    0    0]\n",
      " [   2    0    0    0  162]]\n",
      "Updating model :model0\n",
      "Updating model :model1\n",
      "Iteration 29 : main_model accuracy on all test data:  0.4216\n"
     ]
    },
    {
     "name": "stderr",
     "output_type": "stream",
     "text": [
      "D:\\Softwares\\anaconda-python\\lib\\site-packages\\sklearn\\metrics\\_classification.py:1318: UndefinedMetricWarning: Precision is ill-defined and being set to 0.0 in labels with no predicted samples. Use `zero_division` parameter to control this behavior.\n",
      "  _warn_prf(average, modifier, msg_start, len(result))\n"
     ]
    },
    {
     "name": "stdout",
     "output_type": "stream",
     "text": [
      "precision value: 0.28234921305587835\n",
      "recall value: 0.3975609756097561\n",
      "confusion matrix for normal scenario for slices : 2\n",
      "[[3898    0    0    0    0]\n",
      " [3813    0    0    0    0]\n",
      " [1160    0    0    0    0]\n",
      " [ 594    0    0    0    0]\n",
      " [   2    0    0    0  162]]\n",
      "Updating model :model0\n",
      "Updating model :model1\n",
      "Iteration 30 : main_model accuracy on all test data:  0.4216\n"
     ]
    },
    {
     "name": "stderr",
     "output_type": "stream",
     "text": [
      "D:\\Softwares\\anaconda-python\\lib\\site-packages\\sklearn\\metrics\\_classification.py:1318: UndefinedMetricWarning: Precision is ill-defined and being set to 0.0 in labels with no predicted samples. Use `zero_division` parameter to control this behavior.\n",
      "  _warn_prf(average, modifier, msg_start, len(result))\n"
     ]
    },
    {
     "name": "stdout",
     "output_type": "stream",
     "text": [
      "precision value: 0.28234921305587835\n",
      "recall value: 0.3975609756097561\n",
      "confusion matrix for normal scenario for slices : 2\n",
      "[[3898    0    0    0    0]\n",
      " [3813    0    0    0    0]\n",
      " [1160    0    0    0    0]\n",
      " [ 594    0    0    0    0]\n",
      " [   2    0    0    0  162]]\n",
      "Updating model :model0\n",
      "Updating model :model1\n",
      "Iteration 31 : main_model accuracy on all test data:  0.4216\n"
     ]
    },
    {
     "name": "stderr",
     "output_type": "stream",
     "text": [
      "D:\\Softwares\\anaconda-python\\lib\\site-packages\\sklearn\\metrics\\_classification.py:1318: UndefinedMetricWarning: Precision is ill-defined and being set to 0.0 in labels with no predicted samples. Use `zero_division` parameter to control this behavior.\n",
      "  _warn_prf(average, modifier, msg_start, len(result))\n"
     ]
    },
    {
     "name": "stdout",
     "output_type": "stream",
     "text": [
      "precision value: 0.28234921305587835\n",
      "recall value: 0.3975609756097561\n",
      "confusion matrix for normal scenario for slices : 2\n",
      "[[3898    0    0    0    0]\n",
      " [3813    0    0    0    0]\n",
      " [1160    0    0    0    0]\n",
      " [ 594    0    0    0    0]\n",
      " [   2    0    0    0  162]]\n",
      "Updating model :model0\n",
      "Updating model :model1\n",
      "Iteration 32 : main_model accuracy on all test data:  0.4216\n"
     ]
    },
    {
     "name": "stderr",
     "output_type": "stream",
     "text": [
      "D:\\Softwares\\anaconda-python\\lib\\site-packages\\sklearn\\metrics\\_classification.py:1318: UndefinedMetricWarning: Precision is ill-defined and being set to 0.0 in labels with no predicted samples. Use `zero_division` parameter to control this behavior.\n",
      "  _warn_prf(average, modifier, msg_start, len(result))\n"
     ]
    },
    {
     "name": "stdout",
     "output_type": "stream",
     "text": [
      "precision value: 0.28234921305587835\n",
      "recall value: 0.3975609756097561\n",
      "confusion matrix for normal scenario for slices : 2\n",
      "[[3898    0    0    0    0]\n",
      " [3813    0    0    0    0]\n",
      " [1160    0    0    0    0]\n",
      " [ 594    0    0    0    0]\n",
      " [   2    0    0    0  162]]\n",
      "Updating model :model0\n",
      "Updating model :model1\n",
      "Iteration 33 : main_model accuracy on all test data:  0.4216\n"
     ]
    },
    {
     "name": "stderr",
     "output_type": "stream",
     "text": [
      "D:\\Softwares\\anaconda-python\\lib\\site-packages\\sklearn\\metrics\\_classification.py:1318: UndefinedMetricWarning: Precision is ill-defined and being set to 0.0 in labels with no predicted samples. Use `zero_division` parameter to control this behavior.\n",
      "  _warn_prf(average, modifier, msg_start, len(result))\n"
     ]
    },
    {
     "name": "stdout",
     "output_type": "stream",
     "text": [
      "precision value: 0.28234921305587835\n",
      "recall value: 0.3975609756097561\n",
      "confusion matrix for normal scenario for slices : 2\n",
      "[[3898    0    0    0    0]\n",
      " [3813    0    0    0    0]\n",
      " [1160    0    0    0    0]\n",
      " [ 594    0    0    0    0]\n",
      " [   2    0    0    0  162]]\n",
      "Updating model :model0\n",
      "Updating model :model1\n",
      "Iteration 34 : main_model accuracy on all test data:  0.4216\n"
     ]
    },
    {
     "name": "stderr",
     "output_type": "stream",
     "text": [
      "D:\\Softwares\\anaconda-python\\lib\\site-packages\\sklearn\\metrics\\_classification.py:1318: UndefinedMetricWarning: Precision is ill-defined and being set to 0.0 in labels with no predicted samples. Use `zero_division` parameter to control this behavior.\n",
      "  _warn_prf(average, modifier, msg_start, len(result))\n"
     ]
    },
    {
     "name": "stdout",
     "output_type": "stream",
     "text": [
      "precision value: 0.28234921305587835\n",
      "recall value: 0.3975609756097561\n",
      "confusion matrix for normal scenario for slices : 2\n",
      "[[3898    0    0    0    0]\n",
      " [3813    0    0    0    0]\n",
      " [1160    0    0    0    0]\n",
      " [ 594    0    0    0    0]\n",
      " [   2    0    0    0  162]]\n",
      "Updating model :model0\n",
      "Updating model :model1\n",
      "Iteration 35 : main_model accuracy on all test data:  0.4216\n"
     ]
    },
    {
     "name": "stderr",
     "output_type": "stream",
     "text": [
      "D:\\Softwares\\anaconda-python\\lib\\site-packages\\sklearn\\metrics\\_classification.py:1318: UndefinedMetricWarning: Precision is ill-defined and being set to 0.0 in labels with no predicted samples. Use `zero_division` parameter to control this behavior.\n",
      "  _warn_prf(average, modifier, msg_start, len(result))\n"
     ]
    },
    {
     "name": "stdout",
     "output_type": "stream",
     "text": [
      "precision value: 0.28234921305587835\n",
      "recall value: 0.3975609756097561\n",
      "confusion matrix for normal scenario for slices : 2\n",
      "[[3898    0    0    0    0]\n",
      " [3813    0    0    0    0]\n",
      " [1160    0    0    0    0]\n",
      " [ 594    0    0    0    0]\n",
      " [   2    0    0    0  162]]\n",
      "Updating model :model0\n",
      "Updating model :model1\n",
      "Iteration 36 : main_model accuracy on all test data:  0.4216\n"
     ]
    },
    {
     "name": "stderr",
     "output_type": "stream",
     "text": [
      "D:\\Softwares\\anaconda-python\\lib\\site-packages\\sklearn\\metrics\\_classification.py:1318: UndefinedMetricWarning: Precision is ill-defined and being set to 0.0 in labels with no predicted samples. Use `zero_division` parameter to control this behavior.\n",
      "  _warn_prf(average, modifier, msg_start, len(result))\n"
     ]
    },
    {
     "name": "stdout",
     "output_type": "stream",
     "text": [
      "precision value: 0.28234921305587835\n",
      "recall value: 0.3975609756097561\n",
      "confusion matrix for normal scenario for slices : 2\n",
      "[[3898    0    0    0    0]\n",
      " [3813    0    0    0    0]\n",
      " [1160    0    0    0    0]\n",
      " [ 594    0    0    0    0]\n",
      " [   2    0    0    0  162]]\n",
      "Updating model :model0\n",
      "Updating model :model1\n",
      "Iteration 37 : main_model accuracy on all test data:  0.4216\n"
     ]
    },
    {
     "name": "stderr",
     "output_type": "stream",
     "text": [
      "D:\\Softwares\\anaconda-python\\lib\\site-packages\\sklearn\\metrics\\_classification.py:1318: UndefinedMetricWarning: Precision is ill-defined and being set to 0.0 in labels with no predicted samples. Use `zero_division` parameter to control this behavior.\n",
      "  _warn_prf(average, modifier, msg_start, len(result))\n"
     ]
    },
    {
     "name": "stdout",
     "output_type": "stream",
     "text": [
      "precision value: 0.28234921305587835\n",
      "recall value: 0.3975609756097561\n",
      "confusion matrix for normal scenario for slices : 2\n",
      "[[3898    0    0    0    0]\n",
      " [3813    0    0    0    0]\n",
      " [1160    0    0    0    0]\n",
      " [ 594    0    0    0    0]\n",
      " [   2    0    0    0  162]]\n",
      "Updating model :model0\n",
      "Updating model :model1\n",
      "Iteration 38 : main_model accuracy on all test data:  0.4216\n"
     ]
    },
    {
     "name": "stderr",
     "output_type": "stream",
     "text": [
      "D:\\Softwares\\anaconda-python\\lib\\site-packages\\sklearn\\metrics\\_classification.py:1318: UndefinedMetricWarning: Precision is ill-defined and being set to 0.0 in labels with no predicted samples. Use `zero_division` parameter to control this behavior.\n",
      "  _warn_prf(average, modifier, msg_start, len(result))\n"
     ]
    },
    {
     "name": "stdout",
     "output_type": "stream",
     "text": [
      "precision value: 0.28234921305587835\n",
      "recall value: 0.3975609756097561\n",
      "confusion matrix for normal scenario for slices : 2\n",
      "[[3898    0    0    0    0]\n",
      " [3813    0    0    0    0]\n",
      " [1160    0    0    0    0]\n",
      " [ 594    0    0    0    0]\n",
      " [   2    0    0    0  162]]\n",
      "Updating model :model0\n",
      "Updating model :model1\n",
      "Iteration 39 : main_model accuracy on all test data:  0.4216\n"
     ]
    },
    {
     "name": "stderr",
     "output_type": "stream",
     "text": [
      "D:\\Softwares\\anaconda-python\\lib\\site-packages\\sklearn\\metrics\\_classification.py:1318: UndefinedMetricWarning: Precision is ill-defined and being set to 0.0 in labels with no predicted samples. Use `zero_division` parameter to control this behavior.\n",
      "  _warn_prf(average, modifier, msg_start, len(result))\n"
     ]
    },
    {
     "name": "stdout",
     "output_type": "stream",
     "text": [
      "precision value: 0.28234921305587835\n",
      "recall value: 0.3975609756097561\n",
      "confusion matrix for normal scenario for slices : 2\n",
      "[[3898    0    0    0    0]\n",
      " [3813    0    0    0    0]\n",
      " [1160    0    0    0    0]\n",
      " [ 594    0    0    0    0]\n",
      " [   2    0    0    0  162]]\n",
      "Updating model :model0\n",
      "Updating model :model1\n",
      "Iteration 40 : main_model accuracy on all test data:  0.4216\n"
     ]
    },
    {
     "name": "stderr",
     "output_type": "stream",
     "text": [
      "D:\\Softwares\\anaconda-python\\lib\\site-packages\\sklearn\\metrics\\_classification.py:1318: UndefinedMetricWarning: Precision is ill-defined and being set to 0.0 in labels with no predicted samples. Use `zero_division` parameter to control this behavior.\n",
      "  _warn_prf(average, modifier, msg_start, len(result))\n"
     ]
    },
    {
     "name": "stdout",
     "output_type": "stream",
     "text": [
      "precision value: 0.28234921305587835\n",
      "recall value: 0.3975609756097561\n",
      "confusion matrix for normal scenario for slices : 2\n",
      "[[3898    0    0    0    0]\n",
      " [3813    0    0    0    0]\n",
      " [1160    0    0    0    0]\n",
      " [ 594    0    0    0    0]\n",
      " [   2    0    0    0  162]]\n",
      "Updating model :model0\n",
      "Updating model :model1\n",
      "Iteration 41 : main_model accuracy on all test data:  0.4216\n"
     ]
    },
    {
     "name": "stderr",
     "output_type": "stream",
     "text": [
      "D:\\Softwares\\anaconda-python\\lib\\site-packages\\sklearn\\metrics\\_classification.py:1318: UndefinedMetricWarning: Precision is ill-defined and being set to 0.0 in labels with no predicted samples. Use `zero_division` parameter to control this behavior.\n",
      "  _warn_prf(average, modifier, msg_start, len(result))\n"
     ]
    },
    {
     "name": "stdout",
     "output_type": "stream",
     "text": [
      "precision value: 0.28234921305587835\n",
      "recall value: 0.3975609756097561\n",
      "confusion matrix for normal scenario for slices : 2\n",
      "[[3898    0    0    0    0]\n",
      " [3813    0    0    0    0]\n",
      " [1160    0    0    0    0]\n",
      " [ 594    0    0    0    0]\n",
      " [   2    0    0    0  162]]\n",
      "Updating model :model0\n",
      "Updating model :model1\n",
      "Iteration 42 : main_model accuracy on all test data:  0.4216\n"
     ]
    },
    {
     "name": "stderr",
     "output_type": "stream",
     "text": [
      "D:\\Softwares\\anaconda-python\\lib\\site-packages\\sklearn\\metrics\\_classification.py:1318: UndefinedMetricWarning: Precision is ill-defined and being set to 0.0 in labels with no predicted samples. Use `zero_division` parameter to control this behavior.\n",
      "  _warn_prf(average, modifier, msg_start, len(result))\n"
     ]
    },
    {
     "name": "stdout",
     "output_type": "stream",
     "text": [
      "precision value: 0.28234921305587835\n",
      "recall value: 0.3975609756097561\n",
      "confusion matrix for normal scenario for slices : 2\n",
      "[[3898    0    0    0    0]\n",
      " [3813    0    0    0    0]\n",
      " [1160    0    0    0    0]\n",
      " [ 594    0    0    0    0]\n",
      " [   2    0    0    0  162]]\n",
      "Updating model :model0\n",
      "Updating model :model1\n",
      "Iteration 43 : main_model accuracy on all test data:  0.4216\n"
     ]
    },
    {
     "name": "stderr",
     "output_type": "stream",
     "text": [
      "D:\\Softwares\\anaconda-python\\lib\\site-packages\\sklearn\\metrics\\_classification.py:1318: UndefinedMetricWarning: Precision is ill-defined and being set to 0.0 in labels with no predicted samples. Use `zero_division` parameter to control this behavior.\n",
      "  _warn_prf(average, modifier, msg_start, len(result))\n"
     ]
    },
    {
     "name": "stdout",
     "output_type": "stream",
     "text": [
      "precision value: 0.28234921305587835\n",
      "recall value: 0.3975609756097561\n",
      "confusion matrix for normal scenario for slices : 2\n",
      "[[3898    0    0    0    0]\n",
      " [3813    0    0    0    0]\n",
      " [1160    0    0    0    0]\n",
      " [ 594    0    0    0    0]\n",
      " [   2    0    0    0  162]]\n",
      "Updating model :model0\n",
      "Updating model :model1\n",
      "Iteration 44 : main_model accuracy on all test data:  0.4216\n"
     ]
    },
    {
     "name": "stderr",
     "output_type": "stream",
     "text": [
      "D:\\Softwares\\anaconda-python\\lib\\site-packages\\sklearn\\metrics\\_classification.py:1318: UndefinedMetricWarning: Precision is ill-defined and being set to 0.0 in labels with no predicted samples. Use `zero_division` parameter to control this behavior.\n",
      "  _warn_prf(average, modifier, msg_start, len(result))\n"
     ]
    },
    {
     "name": "stdout",
     "output_type": "stream",
     "text": [
      "precision value: 0.28234921305587835\n",
      "recall value: 0.3975609756097561\n",
      "confusion matrix for normal scenario for slices : 2\n",
      "[[3898    0    0    0    0]\n",
      " [3813    0    0    0    0]\n",
      " [1160    0    0    0    0]\n",
      " [ 594    0    0    0    0]\n",
      " [   2    0    0    0  162]]\n",
      "Updating model :model0\n",
      "Updating model :model1\n",
      "Iteration 45 : main_model accuracy on all test data:  0.4216\n"
     ]
    },
    {
     "name": "stderr",
     "output_type": "stream",
     "text": [
      "D:\\Softwares\\anaconda-python\\lib\\site-packages\\sklearn\\metrics\\_classification.py:1318: UndefinedMetricWarning: Precision is ill-defined and being set to 0.0 in labels with no predicted samples. Use `zero_division` parameter to control this behavior.\n",
      "  _warn_prf(average, modifier, msg_start, len(result))\n"
     ]
    },
    {
     "name": "stdout",
     "output_type": "stream",
     "text": [
      "precision value: 0.28234921305587835\n",
      "recall value: 0.3975609756097561\n",
      "confusion matrix for normal scenario for slices : 2\n",
      "[[3898    0    0    0    0]\n",
      " [3813    0    0    0    0]\n",
      " [1160    0    0    0    0]\n",
      " [ 594    0    0    0    0]\n",
      " [   2    0    0    0  162]]\n",
      "Updating model :model0\n",
      "Updating model :model1\n",
      "Iteration 46 : main_model accuracy on all test data:  0.4216\n"
     ]
    },
    {
     "name": "stderr",
     "output_type": "stream",
     "text": [
      "D:\\Softwares\\anaconda-python\\lib\\site-packages\\sklearn\\metrics\\_classification.py:1318: UndefinedMetricWarning: Precision is ill-defined and being set to 0.0 in labels with no predicted samples. Use `zero_division` parameter to control this behavior.\n",
      "  _warn_prf(average, modifier, msg_start, len(result))\n"
     ]
    },
    {
     "name": "stdout",
     "output_type": "stream",
     "text": [
      "precision value: 0.28234921305587835\n",
      "recall value: 0.3975609756097561\n",
      "confusion matrix for normal scenario for slices : 2\n",
      "[[3898    0    0    0    0]\n",
      " [3813    0    0    0    0]\n",
      " [1160    0    0    0    0]\n",
      " [ 594    0    0    0    0]\n",
      " [   2    0    0    0  162]]\n",
      "Updating model :model0\n",
      "Updating model :model1\n"
     ]
    },
    {
     "ename": "KeyboardInterrupt",
     "evalue": "",
     "output_type": "error",
     "traceback": [
      "\u001b[1;31m---------------------------------------------------------------------------\u001b[0m",
      "\u001b[1;31mKeyboardInterrupt\u001b[0m                         Traceback (most recent call last)",
      "Input \u001b[1;32mIn [37]\u001b[0m, in \u001b[0;36m<cell line: 1>\u001b[1;34m()\u001b[0m\n\u001b[0;32m      1\u001b[0m \u001b[38;5;28;01mfor\u001b[39;00m i \u001b[38;5;129;01min\u001b[39;00m \u001b[38;5;28mrange\u001b[39m(\u001b[38;5;241m100\u001b[39m):\n\u001b[0;32m      2\u001b[0m     model_dict\u001b[38;5;241m=\u001b[39msend_main_model_to_nodes_and_update_model_dict(main_model, model_dict, number_of_slices)\n\u001b[1;32m----> 3\u001b[0m     \u001b[43mstart_train_end_node_process_without_print\u001b[49m\u001b[43m(\u001b[49m\u001b[43mnumber_of_slices\u001b[49m\u001b[43m)\u001b[49m\n\u001b[0;32m      4\u001b[0m     main_model\u001b[38;5;241m=\u001b[39m set_averaged_weights_as_main_model_weights_and_update_main_model(main_model,model_dict, number_of_slices) \n\u001b[0;32m      5\u001b[0m     test_loss, test_accuracy \u001b[38;5;241m=\u001b[39m validation(main_model, test_dl, main_criterion)\n",
      "Input \u001b[1;32mIn [19]\u001b[0m, in \u001b[0;36mstart_train_end_node_process_without_print\u001b[1;34m(number_of_slices)\u001b[0m\n\u001b[0;32m     14\u001b[0m \u001b[38;5;28;01mfor\u001b[39;00m epoch \u001b[38;5;129;01min\u001b[39;00m \u001b[38;5;28mrange\u001b[39m(numEpoch):        \n\u001b[0;32m     15\u001b[0m     train_loss, train_accuracy \u001b[38;5;241m=\u001b[39m train(model, train_dl, criterion, optimizer)\n\u001b[1;32m---> 16\u001b[0m     test_loss, test_accuracy \u001b[38;5;241m=\u001b[39m \u001b[43mvalidation\u001b[49m\u001b[43m(\u001b[49m\u001b[43mmodel\u001b[49m\u001b[43m,\u001b[49m\u001b[43m \u001b[49m\u001b[43mtest_dl\u001b[49m\u001b[43m,\u001b[49m\u001b[43m \u001b[49m\u001b[43mcriterion\u001b[49m\u001b[43m)\u001b[49m\n",
      "Input \u001b[1;32mIn [11]\u001b[0m, in \u001b[0;36mvalidation\u001b[1;34m(model, test_loader, criterion)\u001b[0m\n\u001b[0;32m      5\u001b[0m \u001b[38;5;28;01mwith\u001b[39;00m torch\u001b[38;5;241m.\u001b[39mno_grad():\n\u001b[0;32m      6\u001b[0m     \u001b[38;5;28;01mfor\u001b[39;00m data, target \u001b[38;5;129;01min\u001b[39;00m test_loader:\n\u001b[1;32m----> 7\u001b[0m         output \u001b[38;5;241m=\u001b[39m \u001b[43mmodel\u001b[49m\u001b[43m(\u001b[49m\u001b[43mdata\u001b[49m\u001b[43m)\u001b[49m\n\u001b[0;32m      9\u001b[0m         test_loss \u001b[38;5;241m+\u001b[39m\u001b[38;5;241m=\u001b[39m criterion(output, target)\u001b[38;5;241m.\u001b[39mitem()\n\u001b[0;32m     10\u001b[0m         prediction \u001b[38;5;241m=\u001b[39m output\u001b[38;5;241m.\u001b[39margmax(dim\u001b[38;5;241m=\u001b[39m\u001b[38;5;241m1\u001b[39m, keepdim\u001b[38;5;241m=\u001b[39m\u001b[38;5;28;01mTrue\u001b[39;00m)\n",
      "File \u001b[1;32mD:\\Softwares\\anaconda-python\\lib\\site-packages\\torch\\nn\\modules\\module.py:532\u001b[0m, in \u001b[0;36mModule.__call__\u001b[1;34m(self, *input, **kwargs)\u001b[0m\n\u001b[0;32m    530\u001b[0m     result \u001b[38;5;241m=\u001b[39m \u001b[38;5;28mself\u001b[39m\u001b[38;5;241m.\u001b[39m_slow_forward(\u001b[38;5;241m*\u001b[39m\u001b[38;5;28minput\u001b[39m, \u001b[38;5;241m*\u001b[39m\u001b[38;5;241m*\u001b[39mkwargs)\n\u001b[0;32m    531\u001b[0m \u001b[38;5;28;01melse\u001b[39;00m:\n\u001b[1;32m--> 532\u001b[0m     result \u001b[38;5;241m=\u001b[39m \u001b[38;5;28;43mself\u001b[39;49m\u001b[38;5;241;43m.\u001b[39;49m\u001b[43mforward\u001b[49m\u001b[43m(\u001b[49m\u001b[38;5;241;43m*\u001b[39;49m\u001b[38;5;28;43minput\u001b[39;49m\u001b[43m,\u001b[49m\u001b[43m \u001b[49m\u001b[38;5;241;43m*\u001b[39;49m\u001b[38;5;241;43m*\u001b[39;49m\u001b[43mkwargs\u001b[49m\u001b[43m)\u001b[49m\n\u001b[0;32m    533\u001b[0m \u001b[38;5;28;01mfor\u001b[39;00m hook \u001b[38;5;129;01min\u001b[39;00m \u001b[38;5;28mself\u001b[39m\u001b[38;5;241m.\u001b[39m_forward_hooks\u001b[38;5;241m.\u001b[39mvalues():\n\u001b[0;32m    534\u001b[0m     hook_result \u001b[38;5;241m=\u001b[39m hook(\u001b[38;5;28mself\u001b[39m, \u001b[38;5;28minput\u001b[39m, result)\n",
      "Input \u001b[1;32mIn [8]\u001b[0m, in \u001b[0;36mNet2nn.forward\u001b[1;34m(self, x)\u001b[0m\n\u001b[0;32m      8\u001b[0m \u001b[38;5;28;01mdef\u001b[39;00m \u001b[38;5;21mforward\u001b[39m(\u001b[38;5;28mself\u001b[39m,x):\n\u001b[0;32m      9\u001b[0m     x\u001b[38;5;241m=\u001b[39mF\u001b[38;5;241m.\u001b[39mrelu(\u001b[38;5;28mself\u001b[39m\u001b[38;5;241m.\u001b[39mfc1(x))\n\u001b[1;32m---> 10\u001b[0m     x\u001b[38;5;241m=\u001b[39mF\u001b[38;5;241m.\u001b[39mrelu(\u001b[38;5;28;43mself\u001b[39;49m\u001b[38;5;241;43m.\u001b[39;49m\u001b[43mfc2\u001b[49m\u001b[43m(\u001b[49m\u001b[43mx\u001b[49m\u001b[43m)\u001b[49m)\n\u001b[0;32m     11\u001b[0m     x\u001b[38;5;241m=\u001b[39m\u001b[38;5;28mself\u001b[39m\u001b[38;5;241m.\u001b[39mfc3(x)\n\u001b[0;32m     12\u001b[0m     \u001b[38;5;28;01mreturn\u001b[39;00m x\n",
      "File \u001b[1;32mD:\\Softwares\\anaconda-python\\lib\\site-packages\\torch\\nn\\modules\\module.py:532\u001b[0m, in \u001b[0;36mModule.__call__\u001b[1;34m(self, *input, **kwargs)\u001b[0m\n\u001b[0;32m    530\u001b[0m     result \u001b[38;5;241m=\u001b[39m \u001b[38;5;28mself\u001b[39m\u001b[38;5;241m.\u001b[39m_slow_forward(\u001b[38;5;241m*\u001b[39m\u001b[38;5;28minput\u001b[39m, \u001b[38;5;241m*\u001b[39m\u001b[38;5;241m*\u001b[39mkwargs)\n\u001b[0;32m    531\u001b[0m \u001b[38;5;28;01melse\u001b[39;00m:\n\u001b[1;32m--> 532\u001b[0m     result \u001b[38;5;241m=\u001b[39m \u001b[38;5;28;43mself\u001b[39;49m\u001b[38;5;241;43m.\u001b[39;49m\u001b[43mforward\u001b[49m\u001b[43m(\u001b[49m\u001b[38;5;241;43m*\u001b[39;49m\u001b[38;5;28;43minput\u001b[39;49m\u001b[43m,\u001b[49m\u001b[43m \u001b[49m\u001b[38;5;241;43m*\u001b[39;49m\u001b[38;5;241;43m*\u001b[39;49m\u001b[43mkwargs\u001b[49m\u001b[43m)\u001b[49m\n\u001b[0;32m    533\u001b[0m \u001b[38;5;28;01mfor\u001b[39;00m hook \u001b[38;5;129;01min\u001b[39;00m \u001b[38;5;28mself\u001b[39m\u001b[38;5;241m.\u001b[39m_forward_hooks\u001b[38;5;241m.\u001b[39mvalues():\n\u001b[0;32m    534\u001b[0m     hook_result \u001b[38;5;241m=\u001b[39m hook(\u001b[38;5;28mself\u001b[39m, \u001b[38;5;28minput\u001b[39m, result)\n",
      "File \u001b[1;32mD:\\Softwares\\anaconda-python\\lib\\site-packages\\torch\\nn\\modules\\linear.py:87\u001b[0m, in \u001b[0;36mLinear.forward\u001b[1;34m(self, input)\u001b[0m\n\u001b[0;32m     86\u001b[0m \u001b[38;5;28;01mdef\u001b[39;00m \u001b[38;5;21mforward\u001b[39m(\u001b[38;5;28mself\u001b[39m, \u001b[38;5;28minput\u001b[39m):\n\u001b[1;32m---> 87\u001b[0m     \u001b[38;5;28;01mreturn\u001b[39;00m \u001b[43mF\u001b[49m\u001b[38;5;241;43m.\u001b[39;49m\u001b[43mlinear\u001b[49m\u001b[43m(\u001b[49m\u001b[38;5;28;43minput\u001b[39;49m\u001b[43m,\u001b[49m\u001b[43m \u001b[49m\u001b[38;5;28;43mself\u001b[39;49m\u001b[38;5;241;43m.\u001b[39;49m\u001b[43mweight\u001b[49m\u001b[43m,\u001b[49m\u001b[43m \u001b[49m\u001b[38;5;28;43mself\u001b[39;49m\u001b[38;5;241;43m.\u001b[39;49m\u001b[43mbias\u001b[49m\u001b[43m)\u001b[49m\n",
      "File \u001b[1;32mD:\\Softwares\\anaconda-python\\lib\\site-packages\\torch\\nn\\functional.py:1370\u001b[0m, in \u001b[0;36mlinear\u001b[1;34m(input, weight, bias)\u001b[0m\n\u001b[0;32m   1357\u001b[0m \u001b[38;5;124mr\u001b[39m\u001b[38;5;124;03m\"\"\"\u001b[39;00m\n\u001b[0;32m   1358\u001b[0m \u001b[38;5;124;03mApplies a linear transformation to the incoming data: :math:`y = xA^T + b`.\u001b[39;00m\n\u001b[0;32m   1359\u001b[0m \n\u001b[1;32m   (...)\u001b[0m\n\u001b[0;32m   1366\u001b[0m \u001b[38;5;124;03m    - Output: :math:`(N, *, out\\_features)`\u001b[39;00m\n\u001b[0;32m   1367\u001b[0m \u001b[38;5;124;03m\"\"\"\u001b[39;00m\n\u001b[0;32m   1368\u001b[0m \u001b[38;5;28;01mif\u001b[39;00m \u001b[38;5;28minput\u001b[39m\u001b[38;5;241m.\u001b[39mdim() \u001b[38;5;241m==\u001b[39m \u001b[38;5;241m2\u001b[39m \u001b[38;5;129;01mand\u001b[39;00m bias \u001b[38;5;129;01mis\u001b[39;00m \u001b[38;5;129;01mnot\u001b[39;00m \u001b[38;5;28;01mNone\u001b[39;00m:\n\u001b[0;32m   1369\u001b[0m     \u001b[38;5;66;03m# fused op is marginally faster\u001b[39;00m\n\u001b[1;32m-> 1370\u001b[0m     ret \u001b[38;5;241m=\u001b[39m \u001b[43mtorch\u001b[49m\u001b[38;5;241;43m.\u001b[39;49m\u001b[43maddmm\u001b[49m\u001b[43m(\u001b[49m\u001b[43mbias\u001b[49m\u001b[43m,\u001b[49m\u001b[43m \u001b[49m\u001b[38;5;28;43minput\u001b[39;49m\u001b[43m,\u001b[49m\u001b[43m \u001b[49m\u001b[43mweight\u001b[49m\u001b[38;5;241;43m.\u001b[39;49m\u001b[43mt\u001b[49m\u001b[43m(\u001b[49m\u001b[43m)\u001b[49m\u001b[43m)\u001b[49m\n\u001b[0;32m   1371\u001b[0m \u001b[38;5;28;01melse\u001b[39;00m:\n\u001b[0;32m   1372\u001b[0m     output \u001b[38;5;241m=\u001b[39m \u001b[38;5;28minput\u001b[39m\u001b[38;5;241m.\u001b[39mmatmul(weight\u001b[38;5;241m.\u001b[39mt())\n",
      "\u001b[1;31mKeyboardInterrupt\u001b[0m: "
     ]
    }
   ],
   "source": [
    "for i in range(100):\n",
    "    model_dict=send_main_model_to_nodes_and_update_model_dict(main_model, model_dict, number_of_slices)\n",
    "    start_train_end_node_process_without_print(number_of_slices)\n",
    "    main_model= set_averaged_weights_as_main_model_weights_and_update_main_model(main_model,model_dict, number_of_slices) \n",
    "    test_loss, test_accuracy = validation(main_model, test_dl, main_criterion)\n",
    "    print(\"Iteration\", str(i+2), \": main_model accuracy on all test data: {:7.4f}\".format(test_accuracy)) \n",
    "    confusion_mat(main_model, test_dl)"
   ]
  },
  {
   "cell_type": "code",
   "execution_count": null,
   "id": "234ecd8f",
   "metadata": {},
   "outputs": [],
   "source": [
    "confusion_mat(main_model, test_dl)"
   ]
  },
  {
   "cell_type": "code",
   "execution_count": null,
   "id": "e764e36b",
   "metadata": {},
   "outputs": [],
   "source": [
    "file.close()"
   ]
  }
 ],
 "metadata": {
  "kernelspec": {
   "display_name": "Python 3",
   "language": "python",
   "name": "python3"
  },
  "language_info": {
   "codemirror_mode": {
    "name": "ipython",
    "version": 3
   },
   "file_extension": ".py",
   "mimetype": "text/x-python",
   "name": "python",
   "nbconvert_exporter": "python",
   "pygments_lexer": "ipython3",
   "version": "3.8.8"
  }
 },
 "nbformat": 4,
 "nbformat_minor": 5
}
